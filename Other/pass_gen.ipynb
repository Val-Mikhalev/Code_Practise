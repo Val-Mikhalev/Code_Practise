{
 "cells": [
  {
   "cell_type": "code",
   "execution_count": 15,
   "id": "4a4f55f3",
   "metadata": {},
   "outputs": [
    {
     "name": "stdout",
     "output_type": "stream",
     "text": [
      "QpmWxeEk3JF9ofxOU2oI\n",
      "Ux7UZN8kh16g1ifgKT17\n",
      "xBg9lkZMcCnXWvBH8Eb5\n",
      "gHlXmD5FfFmZWueHJHhB\n",
      "DN4VflJml7M8wxQF3ko4\n"
     ]
    }
   ],
   "source": [
    "def generate_password(length):\n",
    "    import random\n",
    "    string = 'abcdefghijkmnpqrstuvwxyzABCDEFGHJKLMNPQRSTUVWXYZ0123456789'\n",
    "    password = \"\".join([random.choice(string) for i in range(length)]) # генерируем пароль с помощью списочного выражения\n",
    "                                                                       # и джоина\n",
    "    otvet = \"\"    \n",
    "    k = random.choice('12345678') # коэффицент смещения\n",
    "    for i in password:\n",
    "        if i.isdigit() == True: # проверка символа число или нет\n",
    "            x = int(ord(i)) + int(k)  # нахождение нового элемента по индексу в таблице символов\n",
    "            if x > 57:\n",
    "                x = 48 + (x - 57)\n",
    "            otvet += chr(x)\n",
    "        \n",
    "        else:\n",
    "            if i.isupper() == False: # проверка регистра символа\n",
    "                x = int(ord(i)) + int(k)\n",
    "                if x > 122:\n",
    "                    x = 97 + (x - 122)\n",
    "                otvet += chr(x)\n",
    "            else: \n",
    "                x = int(ord(i)) + int(k)\n",
    "                if x > 90:\n",
    "                    x = 65 + (x - 90)\n",
    "                otvet += chr(x)\n",
    "    return otvet\n",
    "\n",
    "def generate_passwords(count, length):\n",
    "    for i in range(count):\n",
    "        print(generate_password(length))\n",
    "    \n",
    "\n",
    "generate_passwords(5, 20)"
   ]
  },
  {
   "cell_type": "code",
   "execution_count": null,
   "id": "1605ad42",
   "metadata": {},
   "outputs": [],
   "source": []
  },
  {
   "cell_type": "code",
   "execution_count": null,
   "id": "08f2ffc8",
   "metadata": {},
   "outputs": [],
   "source": []
  }
 ],
 "metadata": {
  "kernelspec": {
   "display_name": "Python 3 (ipykernel)",
   "language": "python",
   "name": "python3"
  },
  "language_info": {
   "codemirror_mode": {
    "name": "ipython",
    "version": 3
   },
   "file_extension": ".py",
   "mimetype": "text/x-python",
   "name": "python",
   "nbconvert_exporter": "python",
   "pygments_lexer": "ipython3",
   "version": "3.11.3"
  }
 },
 "nbformat": 4,
 "nbformat_minor": 5
}
