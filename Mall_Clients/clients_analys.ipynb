{
 "cells": [
  {
   "cell_type": "code",
   "execution_count": 10,
   "id": "b749c897",
   "metadata": {},
   "outputs": [],
   "source": [
    "import numpy as np\n",
    "import pandas as pd\n",
    "import matplotlib.pyplot as plt\n",
    "import seaborn as sns\n",
    "from sklearn.cluster import KMeans\n",
    "from sklearn.preprocessing import MinMaxScaler\n",
    "from sklearn.model_selection import train_test_split\n",
    "from catboost import CatBoostClassifier as cb"
   ]
  },
  {
   "cell_type": "code",
   "execution_count": 11,
   "id": "c2d4a489-34c5-44e3-b480-c03f080406bd",
   "metadata": {},
   "outputs": [],
   "source": [
    "# https://www.kaggle.com/datasets/shwetabh123/mall-customers\n",
    "# ссылка на датасет."
   ]
  },
  {
   "cell_type": "code",
   "execution_count": 12,
   "id": "cdeaebb0",
   "metadata": {},
   "outputs": [
    {
     "data": {
      "text/html": [
       "<div>\n",
       "<style scoped>\n",
       "    .dataframe tbody tr th:only-of-type {\n",
       "        vertical-align: middle;\n",
       "    }\n",
       "\n",
       "    .dataframe tbody tr th {\n",
       "        vertical-align: top;\n",
       "    }\n",
       "\n",
       "    .dataframe thead th {\n",
       "        text-align: right;\n",
       "    }\n",
       "</style>\n",
       "<table border=\"1\" class=\"dataframe\">\n",
       "  <thead>\n",
       "    <tr style=\"text-align: right;\">\n",
       "      <th></th>\n",
       "      <th>CustomerID</th>\n",
       "      <th>Genre</th>\n",
       "      <th>Age</th>\n",
       "      <th>Annual Income (k$)</th>\n",
       "      <th>Spending Score (1-100)</th>\n",
       "    </tr>\n",
       "  </thead>\n",
       "  <tbody>\n",
       "    <tr>\n",
       "      <th>0</th>\n",
       "      <td>1</td>\n",
       "      <td>Male</td>\n",
       "      <td>19</td>\n",
       "      <td>15</td>\n",
       "      <td>39</td>\n",
       "    </tr>\n",
       "    <tr>\n",
       "      <th>1</th>\n",
       "      <td>2</td>\n",
       "      <td>Male</td>\n",
       "      <td>21</td>\n",
       "      <td>15</td>\n",
       "      <td>81</td>\n",
       "    </tr>\n",
       "    <tr>\n",
       "      <th>2</th>\n",
       "      <td>3</td>\n",
       "      <td>Female</td>\n",
       "      <td>20</td>\n",
       "      <td>16</td>\n",
       "      <td>6</td>\n",
       "    </tr>\n",
       "  </tbody>\n",
       "</table>\n",
       "</div>"
      ],
      "text/plain": [
       "   CustomerID   Genre  Age  Annual Income (k$)  Spending Score (1-100)\n",
       "0           1    Male   19                  15                      39\n",
       "1           2    Male   21                  15                      81\n",
       "2           3  Female   20                  16                       6"
      ]
     },
     "execution_count": 12,
     "metadata": {},
     "output_type": "execute_result"
    }
   ],
   "source": [
    "data = pd.read_csv('Mall_Customers.csv')\n",
    "data.head(3)"
   ]
  },
  {
   "cell_type": "code",
   "execution_count": 13,
   "id": "6d24069e",
   "metadata": {},
   "outputs": [],
   "source": [
    "data = data.drop(['CustomerID'], axis = 1)"
   ]
  },
  {
   "cell_type": "code",
   "execution_count": 14,
   "id": "e9e8fdb1-9237-45db-ab45-6a35b36c2741",
   "metadata": {},
   "outputs": [
    {
     "data": {
      "text/plain": [
       "array(['Male', 'Female'], dtype=object)"
      ]
     },
     "execution_count": 14,
     "metadata": {},
     "output_type": "execute_result"
    }
   ],
   "source": [
    "# Видим, что данные заполненые качественно и нет других обозначений(например: F, M, female).\n",
    "# Это упростит их замену на цифровые обозначения.\n",
    "data['Genre'].unique()"
   ]
  },
  {
   "cell_type": "code",
   "execution_count": 15,
   "id": "457a4459",
   "metadata": {},
   "outputs": [
    {
     "data": {
      "text/html": [
       "<div>\n",
       "<style scoped>\n",
       "    .dataframe tbody tr th:only-of-type {\n",
       "        vertical-align: middle;\n",
       "    }\n",
       "\n",
       "    .dataframe tbody tr th {\n",
       "        vertical-align: top;\n",
       "    }\n",
       "\n",
       "    .dataframe thead th {\n",
       "        text-align: right;\n",
       "    }\n",
       "</style>\n",
       "<table border=\"1\" class=\"dataframe\">\n",
       "  <thead>\n",
       "    <tr style=\"text-align: right;\">\n",
       "      <th></th>\n",
       "      <th>Genre</th>\n",
       "      <th>Annual Income (k$)</th>\n",
       "      <th>Age</th>\n",
       "      <th>Spending Score (1-100)</th>\n",
       "    </tr>\n",
       "  </thead>\n",
       "  <tbody>\n",
       "    <tr>\n",
       "      <th>count</th>\n",
       "      <td>200.000000</td>\n",
       "      <td>200.000000</td>\n",
       "      <td>200.000000</td>\n",
       "      <td>200.000000</td>\n",
       "    </tr>\n",
       "    <tr>\n",
       "      <th>mean</th>\n",
       "      <td>0.440000</td>\n",
       "      <td>60.560000</td>\n",
       "      <td>38.850000</td>\n",
       "      <td>50.200000</td>\n",
       "    </tr>\n",
       "    <tr>\n",
       "      <th>std</th>\n",
       "      <td>0.497633</td>\n",
       "      <td>26.264721</td>\n",
       "      <td>13.969007</td>\n",
       "      <td>25.823522</td>\n",
       "    </tr>\n",
       "    <tr>\n",
       "      <th>min</th>\n",
       "      <td>0.000000</td>\n",
       "      <td>15.000000</td>\n",
       "      <td>18.000000</td>\n",
       "      <td>1.000000</td>\n",
       "    </tr>\n",
       "    <tr>\n",
       "      <th>25%</th>\n",
       "      <td>0.000000</td>\n",
       "      <td>41.500000</td>\n",
       "      <td>28.750000</td>\n",
       "      <td>34.750000</td>\n",
       "    </tr>\n",
       "    <tr>\n",
       "      <th>50%</th>\n",
       "      <td>0.000000</td>\n",
       "      <td>61.500000</td>\n",
       "      <td>36.000000</td>\n",
       "      <td>50.000000</td>\n",
       "    </tr>\n",
       "    <tr>\n",
       "      <th>75%</th>\n",
       "      <td>1.000000</td>\n",
       "      <td>78.000000</td>\n",
       "      <td>49.000000</td>\n",
       "      <td>73.000000</td>\n",
       "    </tr>\n",
       "    <tr>\n",
       "      <th>max</th>\n",
       "      <td>1.000000</td>\n",
       "      <td>137.000000</td>\n",
       "      <td>70.000000</td>\n",
       "      <td>99.000000</td>\n",
       "    </tr>\n",
       "  </tbody>\n",
       "</table>\n",
       "</div>"
      ],
      "text/plain": [
       "            Genre  Annual Income (k$)         Age  Spending Score (1-100)\n",
       "count  200.000000          200.000000  200.000000              200.000000\n",
       "mean     0.440000           60.560000   38.850000               50.200000\n",
       "std      0.497633           26.264721   13.969007               25.823522\n",
       "min      0.000000           15.000000   18.000000                1.000000\n",
       "25%      0.000000           41.500000   28.750000               34.750000\n",
       "50%      0.000000           61.500000   36.000000               50.000000\n",
       "75%      1.000000           78.000000   49.000000               73.000000\n",
       "max      1.000000          137.000000   70.000000               99.000000"
      ]
     },
     "execution_count": 15,
     "metadata": {},
     "output_type": "execute_result"
    }
   ],
   "source": [
    "# посмотрим описание данных в таблице.\n",
    "# так же заменим буквенные обозначения пола на цифровые. \n",
    "\n",
    "df = data[['Genre', 'Annual Income (k$)', 'Age', 'Spending Score (1-100)']]\n",
    "cat_reshape = {\"Genre\": {\"Male\": 1, \"Female\": 0}}\n",
    "df = df.replace(cat_reshape)\n",
    "df.describe()"
   ]
  },
  {
   "cell_type": "code",
   "execution_count": 18,
   "id": "89c824e2-b6fe-49af-8281-cde9990925b5",
   "metadata": {},
   "outputs": [],
   "source": [
    "# Выше видно, что распределение по полу почти 50 на 50, как и рейтинг трат. И средний возраст 38-39 лет. (строка mean) \n",
    "# По статистике этот возраст попадает в одну из самых платежеспособных групп по возрасту.\n",
    "# https://www.statista.com/statistics/233184/median-household-income-in-the-united-states-by-age/ (статистика по США за 2022 год)\n",
    "# Скорее всего, возраст будет самым важным признаком для обучения. Проверим это в конце."
   ]
  },
  {
   "cell_type": "code",
   "execution_count": 19,
   "id": "4287d971-1d18-47b1-bc0d-f523d326e359",
   "metadata": {},
   "outputs": [
    {
     "data": {
      "text/html": [
       "<div>\n",
       "<style scoped>\n",
       "    .dataframe tbody tr th:only-of-type {\n",
       "        vertical-align: middle;\n",
       "    }\n",
       "\n",
       "    .dataframe tbody tr th {\n",
       "        vertical-align: top;\n",
       "    }\n",
       "\n",
       "    .dataframe thead th {\n",
       "        text-align: right;\n",
       "    }\n",
       "</style>\n",
       "<table border=\"1\" class=\"dataframe\">\n",
       "  <thead>\n",
       "    <tr style=\"text-align: right;\">\n",
       "      <th></th>\n",
       "      <th>Genre</th>\n",
       "      <th>Annual Income (k$)</th>\n",
       "      <th>Age</th>\n",
       "      <th>Spending Score (1-100)</th>\n",
       "    </tr>\n",
       "  </thead>\n",
       "  <tbody>\n",
       "    <tr>\n",
       "      <th>0</th>\n",
       "      <td>0.021780</td>\n",
       "      <td>0.326705</td>\n",
       "      <td>0.413826</td>\n",
       "      <td>0.849433</td>\n",
       "    </tr>\n",
       "    <tr>\n",
       "      <th>1</th>\n",
       "      <td>0.011762</td>\n",
       "      <td>0.176434</td>\n",
       "      <td>0.247008</td>\n",
       "      <td>0.952743</td>\n",
       "    </tr>\n",
       "    <tr>\n",
       "      <th>2</th>\n",
       "      <td>0.000000</td>\n",
       "      <td>0.608229</td>\n",
       "      <td>0.760286</td>\n",
       "      <td>0.228086</td>\n",
       "    </tr>\n",
       "    <tr>\n",
       "      <th>3</th>\n",
       "      <td>0.000000</td>\n",
       "      <td>0.195267</td>\n",
       "      <td>0.280697</td>\n",
       "      <td>0.939723</td>\n",
       "    </tr>\n",
       "    <tr>\n",
       "      <th>4</th>\n",
       "      <td>0.000000</td>\n",
       "      <td>0.318439</td>\n",
       "      <td>0.580683</td>\n",
       "      <td>0.749269</td>\n",
       "    </tr>\n",
       "  </tbody>\n",
       "</table>\n",
       "</div>"
      ],
      "text/plain": [
       "      Genre  Annual Income (k$)       Age  Spending Score (1-100)\n",
       "0  0.021780            0.326705  0.413826                0.849433\n",
       "1  0.011762            0.176434  0.247008                0.952743\n",
       "2  0.000000            0.608229  0.760286                0.228086\n",
       "3  0.000000            0.195267  0.280697                0.939723\n",
       "4  0.000000            0.318439  0.580683                0.749269"
      ]
     },
     "execution_count": 19,
     "metadata": {},
     "output_type": "execute_result"
    }
   ],
   "source": [
    "# Нормализуем данные. Нормализация была выбрана, т.к. нужно сохранить изначальное распределение. \n",
    "from sklearn import preprocessing\n",
    "\n",
    "d = preprocessing.normalize(df)\n",
    "df_scaled = pd.DataFrame(d, columns=['Genre', 'Annual Income (k$)', 'Age', 'Spending Score (1-100)'] )\n",
    "df_scaled.head()"
   ]
  },
  {
   "cell_type": "code",
   "execution_count": 20,
   "id": "08cf6b7a-83f9-46b2-99c8-9e11c900faff",
   "metadata": {},
   "outputs": [],
   "source": [
    "X = df_scaled.drop([\"Spending Score (1-100)\"], axis = 1)\n",
    "y = df_scaled['Spending Score (1-100)']"
   ]
  },
  {
   "cell_type": "code",
   "execution_count": 21,
   "id": "caf1db25",
   "metadata": {},
   "outputs": [],
   "source": [
    "x_train, x_test, y_train, y_test = train_test_split(\n",
    "    X, y, test_size=0.10, random_state=42)"
   ]
  },
  {
   "cell_type": "code",
   "execution_count": 22,
   "id": "41b843e4",
   "metadata": {},
   "outputs": [],
   "source": [
    "x_train, x_valid, y_train, y_valid = train_test_split(\n",
    "    x_train, y_train, test_size=0.15, random_state=42)"
   ]
  },
  {
   "cell_type": "code",
   "execution_count": 22,
   "id": "649f9977",
   "metadata": {},
   "outputs": [],
   "source": [
    "'''\n",
    "model = cb(\n",
    "    iterations=266,\n",
    "    loss_function='MultiClass',\n",
    "    learning_rate=8.059714004673094e-05,\n",
    "    depth=10,\n",
    "    task_type=\"GPU\",\n",
    "    devices='0:1',\n",
    "    verbose=True\n",
    ")\n",
    "'''"
   ]
  },
  {
   "cell_type": "code",
   "execution_count": 23,
   "id": "bd27cec1",
   "metadata": {},
   "outputs": [
    {
     "name": "stdout",
     "output_type": "stream",
     "text": [
      "0:\tlearn: 5.0304115\ttotal: 446ms\tremaining: 1m 58s\n",
      "1:\tlearn: 5.0303867\ttotal: 898ms\tremaining: 1m 58s\n",
      "2:\tlearn: 5.0303867\ttotal: 906ms\tremaining: 1m 19s\n",
      "3:\tlearn: 5.0303636\ttotal: 1.33s\tremaining: 1m 27s\n",
      "4:\tlearn: 5.0303365\ttotal: 1.78s\tremaining: 1m 33s\n",
      "5:\tlearn: 5.0303117\ttotal: 2.23s\tremaining: 1m 36s\n",
      "6:\tlearn: 5.0302870\ttotal: 2.68s\tremaining: 1m 39s\n",
      "7:\tlearn: 5.0302635\ttotal: 3.12s\tremaining: 1m 40s\n",
      "8:\tlearn: 5.0302375\ttotal: 3.56s\tremaining: 1m 41s\n",
      "9:\tlearn: 5.0302128\ttotal: 3.99s\tremaining: 1m 42s\n",
      "10:\tlearn: 5.0301885\ttotal: 4.42s\tremaining: 1m 42s\n",
      "11:\tlearn: 5.0301633\ttotal: 4.87s\tremaining: 1m 43s\n",
      "12:\tlearn: 5.0301370\ttotal: 5.33s\tremaining: 1m 43s\n",
      "13:\tlearn: 5.0301123\ttotal: 5.8s\tremaining: 1m 44s\n",
      "14:\tlearn: 5.0300871\ttotal: 6.29s\tremaining: 1m 45s\n",
      "15:\tlearn: 5.0300612\ttotal: 6.78s\tremaining: 1m 45s\n",
      "16:\tlearn: 5.0300373\ttotal: 7.24s\tremaining: 1m 46s\n",
      "17:\tlearn: 5.0300373\ttotal: 7.25s\tremaining: 1m 39s\n",
      "18:\tlearn: 5.0300125\ttotal: 7.7s\tremaining: 1m 40s\n",
      "19:\tlearn: 5.0299886\ttotal: 8.13s\tremaining: 1m 39s\n",
      "20:\tlearn: 5.0299631\ttotal: 8.58s\tremaining: 1m 40s\n",
      "21:\tlearn: 5.0299375\ttotal: 9.06s\tremaining: 1m 40s\n",
      "22:\tlearn: 5.0299128\ttotal: 9.49s\tremaining: 1m 40s\n",
      "23:\tlearn: 5.0298881\ttotal: 9.95s\tremaining: 1m 40s\n",
      "24:\tlearn: 5.0298881\ttotal: 9.96s\tremaining: 1m 36s\n",
      "25:\tlearn: 5.0298881\ttotal: 9.97s\tremaining: 1m 32s\n",
      "26:\tlearn: 5.0298625\ttotal: 10.4s\tremaining: 1m 32s\n",
      "27:\tlearn: 5.0298374\ttotal: 10.9s\tremaining: 1m 32s\n",
      "28:\tlearn: 5.0298374\ttotal: 10.9s\tremaining: 1m 29s\n",
      "29:\tlearn: 5.0298123\ttotal: 11.4s\tremaining: 1m 29s\n",
      "30:\tlearn: 5.0297868\ttotal: 11.9s\tremaining: 1m 30s\n",
      "31:\tlearn: 5.0297608\ttotal: 12.3s\tremaining: 1m 30s\n",
      "32:\tlearn: 5.0297357\ttotal: 12.8s\tremaining: 1m 30s\n",
      "33:\tlearn: 5.0297110\ttotal: 13.3s\tremaining: 1m 30s\n",
      "34:\tlearn: 5.0296854\ttotal: 13.7s\tremaining: 1m 30s\n",
      "35:\tlearn: 5.0296595\ttotal: 14.2s\tremaining: 1m 30s\n",
      "36:\tlearn: 5.0296344\ttotal: 14.6s\tremaining: 1m 30s\n",
      "37:\tlearn: 5.0296084\ttotal: 15.1s\tremaining: 1m 30s\n",
      "38:\tlearn: 5.0295845\ttotal: 15.5s\tremaining: 1m 30s\n",
      "39:\tlearn: 5.0295586\ttotal: 16s\tremaining: 1m 30s\n",
      "40:\tlearn: 5.0295346\ttotal: 16.4s\tremaining: 1m 30s\n",
      "41:\tlearn: 5.0295099\ttotal: 16.9s\tremaining: 1m 30s\n",
      "42:\tlearn: 5.0294844\ttotal: 17.4s\tremaining: 1m 30s\n",
      "43:\tlearn: 5.0294604\ttotal: 17.8s\tremaining: 1m 30s\n",
      "44:\tlearn: 5.0294353\ttotal: 18.3s\tremaining: 1m 29s\n",
      "45:\tlearn: 5.0294106\ttotal: 18.7s\tremaining: 1m 29s\n",
      "46:\tlearn: 5.0293854\ttotal: 19.2s\tremaining: 1m 29s\n",
      "47:\tlearn: 5.0293854\ttotal: 19.2s\tremaining: 1m 27s\n",
      "48:\tlearn: 5.0293599\ttotal: 19.6s\tremaining: 1m 26s\n",
      "49:\tlearn: 5.0293348\ttotal: 20.1s\tremaining: 1m 26s\n",
      "50:\tlearn: 5.0293088\ttotal: 20.6s\tremaining: 1m 26s\n",
      "51:\tlearn: 5.0293088\ttotal: 20.6s\tremaining: 1m 24s\n",
      "52:\tlearn: 5.0292833\ttotal: 21.1s\tremaining: 1m 24s\n",
      "53:\tlearn: 5.0292582\ttotal: 21.5s\tremaining: 1m 24s\n",
      "54:\tlearn: 5.0292322\ttotal: 22s\tremaining: 1m 24s\n",
      "55:\tlearn: 5.0292067\ttotal: 22.4s\tremaining: 1m 24s\n",
      "56:\tlearn: 5.0291816\ttotal: 22.9s\tremaining: 1m 23s\n",
      "57:\tlearn: 5.0291584\ttotal: 23.3s\tremaining: 1m 23s\n",
      "58:\tlearn: 5.0291333\ttotal: 23.8s\tremaining: 1m 23s\n",
      "59:\tlearn: 5.0291074\ttotal: 24.3s\tremaining: 1m 23s\n",
      "60:\tlearn: 5.0290831\ttotal: 24.7s\tremaining: 1m 22s\n",
      "61:\tlearn: 5.0290583\ttotal: 25.1s\tremaining: 1m 22s\n",
      "62:\tlearn: 5.0290328\ttotal: 25.6s\tremaining: 1m 22s\n",
      "63:\tlearn: 5.0290077\ttotal: 26.1s\tremaining: 1m 22s\n",
      "64:\tlearn: 5.0289825\ttotal: 26.5s\tremaining: 1m 22s\n",
      "65:\tlearn: 5.0289570\ttotal: 27s\tremaining: 1m 21s\n",
      "66:\tlearn: 5.0289570\ttotal: 27s\tremaining: 1m 20s\n",
      "67:\tlearn: 5.0289331\ttotal: 27.4s\tremaining: 1m 19s\n",
      "68:\tlearn: 5.0289083\ttotal: 27.9s\tremaining: 1m 19s\n",
      "69:\tlearn: 5.0288832\ttotal: 28.4s\tremaining: 1m 19s\n",
      "70:\tlearn: 5.0288581\ttotal: 28.8s\tremaining: 1m 19s\n",
      "71:\tlearn: 5.0288333\ttotal: 29.3s\tremaining: 1m 18s\n",
      "72:\tlearn: 5.0288078\ttotal: 29.7s\tremaining: 1m 18s\n",
      "73:\tlearn: 5.0287847\ttotal: 30.2s\tremaining: 1m 18s\n",
      "74:\tlearn: 5.0287583\ttotal: 30.6s\tremaining: 1m 17s\n",
      "75:\tlearn: 5.0287336\ttotal: 31.1s\tremaining: 1m 17s\n",
      "76:\tlearn: 5.0287089\ttotal: 31.5s\tremaining: 1m 17s\n",
      "77:\tlearn: 5.0286833\ttotal: 32s\tremaining: 1m 17s\n",
      "78:\tlearn: 5.0286833\ttotal: 32s\tremaining: 1m 15s\n",
      "79:\tlearn: 5.0286578\ttotal: 32.4s\tremaining: 1m 15s\n",
      "80:\tlearn: 5.0286578\ttotal: 32.5s\tremaining: 1m 14s\n",
      "81:\tlearn: 5.0286339\ttotal: 32.9s\tremaining: 1m 13s\n",
      "82:\tlearn: 5.0286339\ttotal: 32.9s\tremaining: 1m 12s\n",
      "83:\tlearn: 5.0286103\ttotal: 33.3s\tremaining: 1m 12s\n",
      "84:\tlearn: 5.0285848\ttotal: 33.8s\tremaining: 1m 11s\n",
      "85:\tlearn: 5.0285613\ttotal: 34.2s\tremaining: 1m 11s\n",
      "86:\tlearn: 5.0285373\ttotal: 34.6s\tremaining: 1m 11s\n",
      "87:\tlearn: 5.0285118\ttotal: 35.1s\tremaining: 1m 11s\n",
      "88:\tlearn: 5.0284871\ttotal: 35.6s\tremaining: 1m 10s\n",
      "89:\tlearn: 5.0284623\ttotal: 36s\tremaining: 1m 10s\n",
      "90:\tlearn: 5.0284384\ttotal: 36.4s\tremaining: 1m 10s\n",
      "91:\tlearn: 5.0284384\ttotal: 36.5s\tremaining: 1m 8s\n",
      "92:\tlearn: 5.0284129\ttotal: 36.9s\tremaining: 1m 8s\n",
      "93:\tlearn: 5.0283869\ttotal: 37.4s\tremaining: 1m 8s\n",
      "94:\tlearn: 5.0283618\ttotal: 37.8s\tremaining: 1m 8s\n",
      "95:\tlearn: 5.0283363\ttotal: 38.3s\tremaining: 1m 7s\n",
      "96:\tlearn: 5.0283115\ttotal: 38.7s\tremaining: 1m 7s\n",
      "97:\tlearn: 5.0282856\ttotal: 39.1s\tremaining: 1m 7s\n",
      "98:\tlearn: 5.0282605\ttotal: 39.6s\tremaining: 1m 6s\n",
      "99:\tlearn: 5.0282361\ttotal: 40s\tremaining: 1m 6s\n",
      "100:\tlearn: 5.0282361\ttotal: 40s\tremaining: 1m 5s\n",
      "101:\tlearn: 5.0282361\ttotal: 40s\tremaining: 1m 4s\n",
      "102:\tlearn: 5.0282110\ttotal: 40.5s\tremaining: 1m 4s\n",
      "103:\tlearn: 5.0282110\ttotal: 40.5s\tremaining: 1m 3s\n",
      "104:\tlearn: 5.0281863\ttotal: 40.9s\tremaining: 1m 2s\n",
      "105:\tlearn: 5.0281615\ttotal: 41.3s\tremaining: 1m 2s\n",
      "106:\tlearn: 5.0281360\ttotal: 41.8s\tremaining: 1m 2s\n",
      "107:\tlearn: 5.0281113\ttotal: 42.2s\tremaining: 1m 1s\n",
      "108:\tlearn: 5.0280853\ttotal: 42.7s\tremaining: 1m 1s\n",
      "109:\tlearn: 5.0280610\ttotal: 43.1s\tremaining: 1m 1s\n",
      "110:\tlearn: 5.0280351\ttotal: 43.5s\tremaining: 1m\n",
      "111:\tlearn: 5.0280103\ttotal: 44s\tremaining: 1m\n",
      "112:\tlearn: 5.0279852\ttotal: 44.4s\tremaining: 1m\n",
      "113:\tlearn: 5.0279597\ttotal: 44.9s\tremaining: 59.8s\n",
      "114:\tlearn: 5.0279346\ttotal: 45.3s\tremaining: 59.5s\n",
      "115:\tlearn: 5.0279102\ttotal: 45.8s\tremaining: 59.2s\n",
      "116:\tlearn: 5.0278855\ttotal: 46.2s\tremaining: 58.8s\n",
      "117:\tlearn: 5.0278600\ttotal: 46.7s\tremaining: 58.5s\n",
      "118:\tlearn: 5.0278600\ttotal: 46.7s\tremaining: 57.7s\n",
      "119:\tlearn: 5.0278352\ttotal: 47.1s\tremaining: 57.3s\n",
      "120:\tlearn: 5.0278105\ttotal: 47.6s\tremaining: 57s\n",
      "121:\tlearn: 5.0277858\ttotal: 48s\tremaining: 56.7s\n",
      "122:\tlearn: 5.0277598\ttotal: 48.5s\tremaining: 56.4s\n",
      "123:\tlearn: 5.0277347\ttotal: 49s\tremaining: 56.1s\n",
      "124:\tlearn: 5.0277092\ttotal: 49.4s\tremaining: 55.7s\n",
      "125:\tlearn: 5.0276836\ttotal: 49.9s\tremaining: 55.4s\n",
      "126:\tlearn: 5.0276581\ttotal: 50.3s\tremaining: 55.1s\n",
      "127:\tlearn: 5.0276338\ttotal: 50.8s\tremaining: 54.7s\n",
      "128:\tlearn: 5.0276078\ttotal: 51.3s\tremaining: 54.4s\n",
      "129:\tlearn: 5.0275839\ttotal: 51.7s\tremaining: 54.1s\n",
      "130:\tlearn: 5.0275839\ttotal: 51.7s\tremaining: 53.3s\n",
      "131:\tlearn: 5.0275584\ttotal: 52.1s\tremaining: 52.9s\n",
      "132:\tlearn: 5.0275336\ttotal: 52.6s\tremaining: 52.6s\n",
      "133:\tlearn: 5.0275336\ttotal: 52.6s\tremaining: 51.8s\n",
      "134:\tlearn: 5.0275336\ttotal: 52.6s\tremaining: 51s\n",
      "135:\tlearn: 5.0275081\ttotal: 53s\tremaining: 50.7s\n",
      "136:\tlearn: 5.0274826\ttotal: 53.5s\tremaining: 50.4s\n",
      "137:\tlearn: 5.0274594\ttotal: 53.9s\tremaining: 50s\n",
      "138:\tlearn: 5.0274347\ttotal: 54.4s\tremaining: 49.7s\n",
      "139:\tlearn: 5.0274092\ttotal: 54.8s\tremaining: 49.3s\n",
      "140:\tlearn: 5.0274092\ttotal: 54.8s\tremaining: 48.6s\n",
      "141:\tlearn: 5.0273840\ttotal: 55.3s\tremaining: 48.3s\n",
      "142:\tlearn: 5.0273589\ttotal: 55.7s\tremaining: 47.9s\n",
      "143:\tlearn: 5.0273334\ttotal: 56.2s\tremaining: 47.6s\n",
      "144:\tlearn: 5.0273082\ttotal: 56.6s\tremaining: 47.2s\n",
      "145:\tlearn: 5.0272831\ttotal: 57.1s\tremaining: 46.9s\n",
      "146:\tlearn: 5.0272576\ttotal: 57.5s\tremaining: 46.5s\n",
      "147:\tlearn: 5.0272325\ttotal: 57.9s\tremaining: 46.2s\n",
      "148:\tlearn: 5.0272077\ttotal: 58.4s\tremaining: 45.8s\n",
      "149:\tlearn: 5.0271822\ttotal: 58.8s\tremaining: 45.5s\n",
      "150:\tlearn: 5.0271567\ttotal: 59.3s\tremaining: 45.2s\n",
      "151:\tlearn: 5.0271367\ttotal: 59.7s\tremaining: 44.8s\n",
      "152:\tlearn: 5.0271112\ttotal: 1m\tremaining: 44.4s\n",
      "153:\tlearn: 5.0270852\ttotal: 1m\tremaining: 44.1s\n",
      "154:\tlearn: 5.0270601\ttotal: 1m 1s\tremaining: 43.7s\n",
      "155:\tlearn: 5.0270350\ttotal: 1m 1s\tremaining: 43.3s\n",
      "156:\tlearn: 5.0270350\ttotal: 1m 1s\tremaining: 42.7s\n",
      "157:\tlearn: 5.0270350\ttotal: 1m 1s\tremaining: 42s\n",
      "158:\tlearn: 5.0270350\ttotal: 1m 1s\tremaining: 41.4s\n",
      "159:\tlearn: 5.0270095\ttotal: 1m 1s\tremaining: 41s\n",
      "160:\tlearn: 5.0269839\ttotal: 1m 2s\tremaining: 40.7s\n",
      "161:\tlearn: 5.0269584\ttotal: 1m 2s\tremaining: 40.4s\n",
      "162:\tlearn: 5.0269337\ttotal: 1m 3s\tremaining: 40s\n",
      "163:\tlearn: 5.0269081\ttotal: 1m 3s\tremaining: 39.7s\n",
      "164:\tlearn: 5.0268826\ttotal: 1m 4s\tremaining: 39.3s\n",
      "165:\tlearn: 5.0268579\ttotal: 1m 4s\tremaining: 39s\n",
      "166:\tlearn: 5.0268319\ttotal: 1m 5s\tremaining: 38.6s\n",
      "167:\tlearn: 5.0268068\ttotal: 1m 5s\tremaining: 38.2s\n",
      "168:\tlearn: 5.0267813\ttotal: 1m 6s\tremaining: 37.9s\n",
      "169:\tlearn: 5.0267557\ttotal: 1m 6s\tremaining: 37.5s\n",
      "170:\tlearn: 5.0267298\ttotal: 1m 6s\tremaining: 37.2s\n",
      "171:\tlearn: 5.0267047\ttotal: 1m 7s\tremaining: 36.8s\n",
      "172:\tlearn: 5.0266799\ttotal: 1m 7s\tremaining: 36.4s\n",
      "173:\tlearn: 5.0266540\ttotal: 1m 8s\tremaining: 36.1s\n",
      "174:\tlearn: 5.0266289\ttotal: 1m 8s\tremaining: 35.7s\n",
      "175:\tlearn: 5.0266037\ttotal: 1m 9s\tremaining: 35.4s\n",
      "176:\tlearn: 5.0265782\ttotal: 1m 9s\tremaining: 35s\n",
      "177:\tlearn: 5.0265531\ttotal: 1m 10s\tremaining: 34.6s\n",
      "178:\tlearn: 5.0265276\ttotal: 1m 10s\tremaining: 34.3s\n",
      "179:\tlearn: 5.0265020\ttotal: 1m 10s\tremaining: 33.9s\n",
      "180:\tlearn: 5.0264769\ttotal: 1m 11s\tremaining: 33.5s\n",
      "181:\tlearn: 5.0264510\ttotal: 1m 11s\tremaining: 33.2s\n",
      "182:\tlearn: 5.0264258\ttotal: 1m 12s\tremaining: 32.8s\n",
      "183:\tlearn: 5.0263999\ttotal: 1m 12s\tremaining: 32.4s\n",
      "184:\tlearn: 5.0263760\ttotal: 1m 13s\tremaining: 32s\n",
      "185:\tlearn: 5.0263500\ttotal: 1m 13s\tremaining: 31.7s\n",
      "186:\tlearn: 5.0263249\ttotal: 1m 14s\tremaining: 31.3s\n",
      "187:\tlearn: 5.0263034\ttotal: 1m 14s\tremaining: 30.9s\n",
      "188:\tlearn: 5.0262778\ttotal: 1m 15s\tremaining: 30.6s\n",
      "189:\tlearn: 5.0262575\ttotal: 1m 15s\tremaining: 30.2s\n",
      "190:\tlearn: 5.0262324\ttotal: 1m 15s\tremaining: 29.8s\n",
      "191:\tlearn: 5.0262072\ttotal: 1m 16s\tremaining: 29.4s\n",
      "192:\tlearn: 5.0261829\ttotal: 1m 16s\tremaining: 29.1s\n",
      "193:\tlearn: 5.0261829\ttotal: 1m 16s\tremaining: 28.5s\n",
      "194:\tlearn: 5.0261578\ttotal: 1m 17s\tremaining: 28.1s\n",
      "195:\tlearn: 5.0261322\ttotal: 1m 17s\tremaining: 27.8s\n",
      "196:\tlearn: 5.0261063\ttotal: 1m 18s\tremaining: 27.4s\n",
      "197:\tlearn: 5.0260816\ttotal: 1m 18s\tremaining: 27s\n",
      "198:\tlearn: 5.0260564\ttotal: 1m 19s\tremaining: 26.6s\n",
      "199:\tlearn: 5.0260321\ttotal: 1m 19s\tremaining: 26.2s\n",
      "200:\tlearn: 5.0260066\ttotal: 1m 19s\tremaining: 25.9s\n",
      "201:\tlearn: 5.0259814\ttotal: 1m 20s\tremaining: 25.5s\n",
      "202:\tlearn: 5.0259814\ttotal: 1m 20s\tremaining: 25s\n",
      "203:\tlearn: 5.0259555\ttotal: 1m 20s\tremaining: 24.6s\n",
      "204:\tlearn: 5.0259312\ttotal: 1m 21s\tremaining: 24.2s\n",
      "205:\tlearn: 5.0259052\ttotal: 1m 21s\tremaining: 23.8s\n",
      "206:\tlearn: 5.0258805\ttotal: 1m 22s\tremaining: 23.4s\n",
      "207:\tlearn: 5.0258566\ttotal: 1m 22s\tremaining: 23s\n",
      "208:\tlearn: 5.0258310\ttotal: 1m 23s\tremaining: 22.6s\n",
      "209:\tlearn: 5.0258051\ttotal: 1m 23s\tremaining: 22.3s\n",
      "210:\tlearn: 5.0257808\ttotal: 1m 23s\tremaining: 21.9s\n",
      "211:\tlearn: 5.0257552\ttotal: 1m 24s\tremaining: 21.5s\n",
      "212:\tlearn: 5.0257309\ttotal: 1m 24s\tremaining: 21.1s\n",
      "213:\tlearn: 5.0257058\ttotal: 1m 25s\tremaining: 20.7s\n",
      "214:\tlearn: 5.0256810\ttotal: 1m 25s\tremaining: 20.3s\n",
      "215:\tlearn: 5.0256555\ttotal: 1m 26s\tremaining: 19.9s\n",
      "216:\tlearn: 5.0256308\ttotal: 1m 26s\tremaining: 19.6s\n",
      "217:\tlearn: 5.0256060\ttotal: 1m 27s\tremaining: 19.2s\n",
      "218:\tlearn: 5.0255809\ttotal: 1m 27s\tremaining: 18.8s\n",
      "219:\tlearn: 5.0255562\ttotal: 1m 27s\tremaining: 18.4s\n",
      "220:\tlearn: 5.0255306\ttotal: 1m 28s\tremaining: 18s\n",
      "221:\tlearn: 5.0255047\ttotal: 1m 28s\tremaining: 17.6s\n",
      "222:\tlearn: 5.0254808\ttotal: 1m 29s\tremaining: 17.2s\n",
      "223:\tlearn: 5.0254553\ttotal: 1m 29s\tremaining: 16.8s\n",
      "224:\tlearn: 5.0254297\ttotal: 1m 30s\tremaining: 16.4s\n",
      "225:\tlearn: 5.0254058\ttotal: 1m 30s\tremaining: 16s\n",
      "226:\tlearn: 5.0253803\ttotal: 1m 31s\tremaining: 15.6s\n",
      "227:\tlearn: 5.0253547\ttotal: 1m 31s\tremaining: 15.2s\n",
      "228:\tlearn: 5.0253300\ttotal: 1m 31s\tremaining: 14.8s\n",
      "229:\tlearn: 5.0253045\ttotal: 1m 32s\tremaining: 14.4s\n",
      "230:\tlearn: 5.0253045\ttotal: 1m 32s\tremaining: 14s\n",
      "231:\tlearn: 5.0252789\ttotal: 1m 32s\tremaining: 13.6s\n",
      "232:\tlearn: 5.0252534\ttotal: 1m 33s\tremaining: 13.2s\n",
      "233:\tlearn: 5.0252275\ttotal: 1m 33s\tremaining: 12.8s\n",
      "234:\tlearn: 5.0252035\ttotal: 1m 34s\tremaining: 12.4s\n",
      "235:\tlearn: 5.0251776\ttotal: 1m 34s\tremaining: 12s\n",
      "236:\tlearn: 5.0251525\ttotal: 1m 35s\tremaining: 11.6s\n",
      "237:\tlearn: 5.0251525\ttotal: 1m 35s\tremaining: 11.2s\n",
      "238:\tlearn: 5.0251281\ttotal: 1m 35s\tremaining: 10.8s\n",
      "239:\tlearn: 5.0251026\ttotal: 1m 35s\tremaining: 10.4s\n",
      "240:\tlearn: 5.0250775\ttotal: 1m 36s\tremaining: 9.99s\n",
      "241:\tlearn: 5.0250523\ttotal: 1m 36s\tremaining: 9.6s\n",
      "242:\tlearn: 5.0250523\ttotal: 1m 36s\tremaining: 9.16s\n",
      "243:\tlearn: 5.0250268\ttotal: 1m 37s\tremaining: 8.77s\n",
      "244:\tlearn: 5.0250268\ttotal: 1m 37s\tremaining: 8.34s\n",
      "245:\tlearn: 5.0250041\ttotal: 1m 37s\tremaining: 7.94s\n",
      "246:\tlearn: 5.0250041\ttotal: 1m 37s\tremaining: 7.51s\n",
      "247:\tlearn: 5.0249785\ttotal: 1m 38s\tremaining: 7.12s\n",
      "248:\tlearn: 5.0249534\ttotal: 1m 38s\tremaining: 6.73s\n",
      "249:\tlearn: 5.0249287\ttotal: 1m 39s\tremaining: 6.34s\n",
      "250:\tlearn: 5.0249035\ttotal: 1m 39s\tremaining: 5.95s\n",
      "251:\tlearn: 5.0248792\ttotal: 1m 39s\tremaining: 5.55s\n",
      "252:\tlearn: 5.0248537\ttotal: 1m 40s\tremaining: 5.16s\n",
      "253:\tlearn: 5.0248297\ttotal: 1m 40s\tremaining: 4.76s\n",
      "254:\tlearn: 5.0248038\ttotal: 1m 41s\tremaining: 4.37s\n",
      "255:\tlearn: 5.0247787\ttotal: 1m 41s\tremaining: 3.97s\n",
      "256:\tlearn: 5.0247531\ttotal: 1m 42s\tremaining: 3.58s\n",
      "257:\tlearn: 5.0247292\ttotal: 1m 42s\tremaining: 3.18s\n",
      "258:\tlearn: 5.0247033\ttotal: 1m 43s\tremaining: 2.79s\n",
      "259:\tlearn: 5.0246789\ttotal: 1m 43s\tremaining: 2.39s\n",
      "260:\tlearn: 5.0246534\ttotal: 1m 43s\tremaining: 1.99s\n",
      "261:\tlearn: 5.0246287\ttotal: 1m 44s\tremaining: 1.59s\n",
      "262:\tlearn: 5.0246047\ttotal: 1m 44s\tremaining: 1.2s\n",
      "263:\tlearn: 5.0245848\ttotal: 1m 45s\tremaining: 797ms\n",
      "264:\tlearn: 5.0245848\ttotal: 1m 45s\tremaining: 397ms\n",
      "265:\tlearn: 5.0245593\ttotal: 1m 45s\tremaining: 0us\n"
     ]
    },
    {
     "data": {
      "text/plain": [
       "<catboost.core.CatBoostClassifier at 0x215c4bfbca0>"
      ]
     },
     "execution_count": 23,
     "metadata": {},
     "output_type": "execute_result"
    }
   ],
   "source": [
    "'''\n",
    "model.fit(x_train, y_train)\n",
    "'''"
   ]
  },
  {
   "cell_type": "code",
   "execution_count": 24,
   "id": "9809f183-8958-4466-9448-d5153eaeb4eb",
   "metadata": {},
   "outputs": [
    {
     "data": {
      "text/plain": [
       "<catboost.core.CatBoostClassifier at 0x1803943eb30>"
      ]
     },
     "execution_count": 24,
     "metadata": {},
     "output_type": "execute_result"
    }
   ],
   "source": [
    "model = cb()\n",
    "model.load_model(\"Готовая модель_mail_customers_1\")"
   ]
  },
  {
   "cell_type": "code",
   "execution_count": 25,
   "id": "152b46bf-0939-4e0e-b05d-8f6cb588e01f",
   "metadata": {},
   "outputs": [
    {
     "data": {
      "text/plain": [
       "<Axes: xlabel='Spending Score (1-100)', ylabel='Count'>"
      ]
     },
     "execution_count": 25,
     "metadata": {},
     "output_type": "execute_result"
    },
    {
     "data": {
      "image/png": "[encoded data removed]",
      "text/plain": [
       "<Figure size 640x480 with 1 Axes>"
      ]
     },
     "metadata": {},
     "output_type": "display_data"
    }
   ],
   "source": [
    "sns.histplot(data['Spending Score (1-100)'])"
   ]
  },
  {
   "cell_type": "code",
   "execution_count": 25,
   "id": "29673b2c-2486-43c8-b326-1f5edf596dfa",
   "metadata": {},
   "outputs": [],
   "source": [
    "# т.к. целевая переменная имеет нормальную дисперсию(за небольшим исключением, которым можно принеберечь), то выберем в качестве метрики MSE,\n",
    "# т.к. эта метрика более чувствительна к большим ошибкам,\n",
    "# что позволит нам понять, насколько сильно модель ошибается при маленьком наборе данных и нармальном распределении\n",
    "# т.е. научилась предсказывать каждый случай наиболее точно."
   ]
  },
  {
   "cell_type": "code",
   "execution_count": 26,
   "id": "9713a194",
   "metadata": {},
   "outputs": [
    {
     "name": "stdout",
     "output_type": "stream",
     "text": [
      "Train-score-error: 0.0, Valid-score-error: 0.009428, Test-score-error: 0.009051\n"
     ]
    }
   ],
   "source": [
    "from sklearn.metrics import mean_squared_error\n",
    "\n",
    "train_score_error = mean_squared_error(y_train, model.predict(x_train)\n",
    "                           )\n",
    "valid_score_error = mean_squared_error(y_valid, model.predict(x_valid)\n",
    "                           )\n",
    "test_score_error = mean_squared_error(y_test, model.predict(x_test)\n",
    "                           )\n",
    "\n",
    "\n",
    "\n",
    "print(f\"Train-score-error: {round(train_score_error, 6)}, Valid-score-error: {round(valid_score_error, 6)}, Test-score-error: {round(test_score_error, 6)}\")"
   ]
  },
  {
   "cell_type": "code",
   "execution_count": null,
   "id": "7e0c5d84-a8eb-4bfa-b177-281354ce714e",
   "metadata": {},
   "outputs": [],
   "source": [
    "# Как видно средне квадратичная ошибка на тестовой выборке менее одного процента. \n",
    "# При изначальном наборе из двухсот клиентов модель научилась предсказать рейтинг расходов клиента,\n",
    "# что может быть полезно при рекламных акция и рекомендациях товаров и услуг."
   ]
  },
  {
   "cell_type": "code",
   "execution_count": null,
   "id": "d714d2cc-bad0-4ed0-8056-b5a930767952",
   "metadata": {},
   "outputs": [],
   "source": [
    "# Значение метрики легко понять, т.к. описания целевой переменной нет, но в скобках указано 0-100, то вероятнее всего, это процентные исчесления.\n",
    "# В данном случае нам не важно, что берется за 100, а что за 0. Важна ошибках в единицах исчесления этой переменной.\n",
    "# и на тестовой выборке она равна 0.009051."
   ]
  },
  {
   "cell_type": "code",
   "execution_count": 28,
   "id": "bb7b75bc-e701-497e-b230-e4cf4e964028",
   "metadata": {},
   "outputs": [],
   "source": [
    "model.save_model(\"Готовая модель_mail_customers_1\")"
   ]
  },
  {
   "cell_type": "code",
   "execution_count": 27,
   "id": "6438e35b",
   "metadata": {},
   "outputs": [
    {
     "data": {
      "text/html": [
       "<div>\n",
       "<style scoped>\n",
       "    .dataframe tbody tr th:only-of-type {\n",
       "        vertical-align: middle;\n",
       "    }\n",
       "\n",
       "    .dataframe tbody tr th {\n",
       "        vertical-align: top;\n",
       "    }\n",
       "\n",
       "    .dataframe thead th {\n",
       "        text-align: right;\n",
       "    }\n",
       "</style>\n",
       "<table border=\"1\" class=\"dataframe\">\n",
       "  <thead>\n",
       "    <tr style=\"text-align: right;\">\n",
       "      <th></th>\n",
       "      <th>Feature Id</th>\n",
       "      <th>Importances</th>\n",
       "    </tr>\n",
       "  </thead>\n",
       "  <tbody>\n",
       "    <tr>\n",
       "      <th>0</th>\n",
       "      <td>Age</td>\n",
       "      <td>37.313809</td>\n",
       "    </tr>\n",
       "    <tr>\n",
       "      <th>1</th>\n",
       "      <td>Annual Income (k$)</td>\n",
       "      <td>36.333911</td>\n",
       "    </tr>\n",
       "    <tr>\n",
       "      <th>2</th>\n",
       "      <td>Genre</td>\n",
       "      <td>26.352280</td>\n",
       "    </tr>\n",
       "  </tbody>\n",
       "</table>\n",
       "</div>"
      ],
      "text/plain": [
       "           Feature Id  Importances\n",
       "0                 Age    37.313809\n",
       "1  Annual Income (k$)    36.333911\n",
       "2               Genre    26.352280"
      ]
     },
     "execution_count": 27,
     "metadata": {},
     "output_type": "execute_result"
    }
   ],
   "source": [
    "model.get_feature_importance(prettified=True)"
   ]
  },
  {
   "cell_type": "code",
   "execution_count": null,
   "id": "5dfa4006-502b-44bc-be2c-dc8a4174d4d5",
   "metadata": {},
   "outputs": [],
   "source": [
    "# И как видно по итогу, возраст оказался самым фажным признаком при обучении, \n",
    "# а зарплата(которая имеет корреляцию с возрастом из статьи по ссылке выше это видно) на втором месте с минимальным отрывом. Пол оказался менее значим."
   ]
  },
  {
   "cell_type": "code",
   "execution_count": null,
   "id": "99fb1c54-6180-4729-96cc-664792c28caf",
   "metadata": {},
   "outputs": [],
   "source": []
  }
 ],
 "metadata": {
  "kernelspec": {
   "display_name": "Python 3 (ipykernel)",
   "language": "python",
   "name": "python3"
  },
  "language_info": {
   "codemirror_mode": {
    "name": "ipython",
    "version": 3
   },
   "file_extension": ".py",
   "mimetype": "text/x-python",
   "name": "python",
   "nbconvert_exporter": "python",
   "pygments_lexer": "ipython3",
   "version": "3.10.0"
  }
 },
 "nbformat": 4,
 "nbformat_minor": 5
}
