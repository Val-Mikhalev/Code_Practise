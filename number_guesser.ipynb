{
 "cells": [
  {
   "cell_type": "code",
   "execution_count": null,
   "id": "56ab3ce5",
   "metadata": {},
   "outputs": [
    {
     "name": "stdout",
     "output_type": "stream",
     "text": [
      "Я попробую угадать загаданное тобой неотрицательное число за 8 попыток?Или даже меньше, как повезет!\n",
      "Укажи диапозон:\n",
      "Нижний:-1\n",
      "Это отрицательное число, загадай положительное:10\n",
      "Верхний:5\n",
      "Верхний предел меньше нижнего, попробуй еще раз:100\n",
      "Отлично!Загадай число от 10 до 100 включительно. Отвечай много, мало и верно.\n",
      "Загаданое число 55 ?\n"
     ]
    }
   ],
   "source": [
    "print(\"Я попробую угадать загаданное тобой неотрицательное число за 8 попыток?Или даже меньше, как повезет!\\nУкажи диапозон:\")\n",
    "flag = False\n",
    "\n",
    "while flag == False:\n",
    "    n1 = int(input(\"Нижний:\"))\n",
    "    if n1 < 0:\n",
    "        n1 = int(input(\"Это отрицательное число, загадай положительное:\"))\n",
    "    n2 = int(input(\"Верхний:\"))\n",
    "    if n1 > n2:\n",
    "        n2 = int(input(\"Верхний предел меньше нижнего, попробуй еще раз:\"))\n",
    "    if 0 < n1 < n2:\n",
    "        flag = True\n",
    "    else:\n",
    "        flag = False\n",
    "    \n",
    "print(\"Отлично!Загадай число от\", n1,\"до\", n2, \"включительно. Отвечай много, мало и верно.\")\n",
    "\n",
    "a = ''\n",
    "while True:\n",
    "    guess = (n1 + n2) // 2\n",
    "    print(\"Загаданое число\", guess, \"?\")\n",
    "    a = input()\n",
    "    \n",
    "    if a == \"верно\" or a == \"Верно\":\n",
    "        print(\"Класс!Спасибо за игру!\")\n",
    "        break\n",
    "    elif a == \"много\" or a == \"Много\":\n",
    "        n2 = guess - 1\n",
    "    elif a == \"мало\" or a == \"Мало\":\n",
    "        n1 = guess + 1\n",
    "    else:\n",
    "         print(\"Я не понимаю. Напиши много, мало или верно.\")"
   ]
  },
  {
   "cell_type": "code",
   "execution_count": null,
   "id": "5479f029",
   "metadata": {},
   "outputs": [],
   "source": []
  },
  {
   "cell_type": "code",
   "execution_count": null,
   "id": "d2eecd12",
   "metadata": {},
   "outputs": [],
   "source": []
  }
 ],
 "metadata": {
  "kernelspec": {
   "display_name": "Python 3 (ipykernel)",
   "language": "python",
   "name": "python3"
  },
  "language_info": {
   "codemirror_mode": {
    "name": "ipython",
    "version": 3
   },
   "file_extension": ".py",
   "mimetype": "text/x-python",
   "name": "python",
   "nbconvert_exporter": "python",
   "pygments_lexer": "ipython3",
   "version": "3.11.3"
  }
 },
 "nbformat": 4,
 "nbformat_minor": 5
}
