{
 "cells": [
  {
   "cell_type": "code",
   "execution_count": 1,
   "id": "382a8ce8",
   "metadata": {},
   "outputs": [],
   "source": [
    "import tensorflow as tf\n",
    "import matplotlib.pyplot as plt\n",
    "import os\n",
    "import numpy as np"
   ]
  },
  {
   "cell_type": "code",
   "execution_count": 2,
   "id": "63cffa10-216a-427c-b397-d42aa2bf6c45",
   "metadata": {},
   "outputs": [
    {
     "name": "stdout",
     "output_type": "stream",
     "text": [
      "Num GPUs Available:  1\n"
     ]
    }
   ],
   "source": [
    "print(\"Num GPUs Available: \", len(tf.config.list_physical_devices('GPU')))\n"
   ]
  },
  {
   "cell_type": "code",
   "execution_count": 3,
   "id": "a420ddfe",
   "metadata": {},
   "outputs": [],
   "source": [
    "np.random.seed(17)\n",
    "tf.random.set_seed(17)"
   ]
  },
  {
   "cell_type": "code",
   "execution_count": 4,
   "id": "6372ca81",
   "metadata": {},
   "outputs": [
    {
     "name": "stdout",
     "output_type": "stream",
     "text": [
      "Found 5216 files belonging to 2 classes.\n"
     ]
    }
   ],
   "source": [
    "df_1 = tf.keras.utils.image_dataset_from_directory('G:/Lessons/DS/Try/My_own/Pnevmonia/Archive/chest_xray/train/', labels='inferred')"
   ]
  },
  {
   "cell_type": "code",
   "execution_count": 5,
   "id": "f9ab2661",
   "metadata": {},
   "outputs": [
    {
     "name": "stdout",
     "output_type": "stream",
     "text": [
      "Found 16 files belonging to 2 classes.\n"
     ]
    }
   ],
   "source": [
    "df_2 = tf.keras.utils.image_dataset_from_directory('G:/Lessons/DS/Try/My_own/Pnevmonia/Archive/chest_xray/val', labels = 'inferred')"
   ]
  },
  {
   "cell_type": "code",
   "execution_count": 135,
   "id": "be28111f",
   "metadata": {},
   "outputs": [
    {
     "name": "stdout",
     "output_type": "stream",
     "text": [
      "Model: \"sequential_10\"\n",
      "_________________________________________________________________\n",
      " Layer (type)                Output Shape              Param #   \n",
      "=================================================================\n",
      " conv2d_41 (Conv2D)          (None, 254, 254, 128)     3584      \n",
      "                                                                 \n",
      " max_pooling2d_41 (MaxPoolin  (None, 127, 127, 128)    0         \n",
      " g2D)                                                            \n",
      "                                                                 \n",
      " conv2d_42 (Conv2D)          (None, 125, 125, 128)     147584    \n",
      "                                                                 \n",
      " max_pooling2d_42 (MaxPoolin  (None, 62, 62, 128)      0         \n",
      " g2D)                                                            \n",
      "                                                                 \n",
      " batch_normalization_31 (Bat  (None, 62, 62, 128)      512       \n",
      " chNormalization)                                                \n",
      "                                                                 \n",
      " dropout_31 (Dropout)        (None, 62, 62, 128)       0         \n",
      "                                                                 \n",
      " conv2d_43 (Conv2D)          (None, 60, 60, 128)       147584    \n",
      "                                                                 \n",
      " max_pooling2d_43 (MaxPoolin  (None, 30, 30, 128)      0         \n",
      " g2D)                                                            \n",
      "                                                                 \n",
      " batch_normalization_32 (Bat  (None, 30, 30, 128)      512       \n",
      " chNormalization)                                                \n",
      "                                                                 \n",
      " dropout_32 (Dropout)        (None, 30, 30, 128)       0         \n",
      "                                                                 \n",
      " conv2d_44 (Conv2D)          (None, 28, 28, 90)        103770    \n",
      "                                                                 \n",
      " max_pooling2d_44 (MaxPoolin  (None, 14, 14, 90)       0         \n",
      " g2D)                                                            \n",
      "                                                                 \n",
      " batch_normalization_33 (Bat  (None, 14, 14, 90)       360       \n",
      " chNormalization)                                                \n",
      "                                                                 \n",
      " dropout_33 (Dropout)        (None, 14, 14, 90)        0         \n",
      "                                                                 \n",
      " flatten_13 (Flatten)        (None, 17640)             0         \n",
      "                                                                 \n",
      " dense_20 (Dense)            (None, 50)                882050    \n",
      "                                                                 \n",
      " dense_21 (Dense)            (None, 1)                 51        \n",
      "                                                                 \n",
      "=================================================================\n",
      "Total params: 1,286,007\n",
      "Trainable params: 1,285,315\n",
      "Non-trainable params: 692\n",
      "_________________________________________________________________\n"
     ]
    }
   ],
   "source": [
    "model = tf.keras.models.Sequential([\n",
    "    tf.keras.layers.Conv2D(128, (3,3), activation='relu', input_shape=(256, 256, 3)),\n",
    "    tf.keras.layers.MaxPooling2D(2, 2),\n",
    "\n",
    "    tf.keras.layers.Conv2D(128, (3,3), activation='relu'),\n",
    "    tf.keras.layers.MaxPooling2D(2,2),\n",
    "    tf.keras.layers.BatchNormalization(),\n",
    "    tf.keras.layers.Dropout(0.4),\n",
    "\n",
    "    tf.keras.layers.Conv2D(128, (3,3), activation='relu'),\n",
    "    tf.keras.layers.MaxPooling2D(2,2),\n",
    "    tf.keras.layers.BatchNormalization(),\n",
    "    tf.keras.layers.Dropout(0.4),\n",
    "\n",
    "    tf.keras.layers.Conv2D(90, (3,3), activation='relu'),\n",
    "    tf.keras.layers.MaxPooling2D(2,2),\n",
    "    tf.keras.layers.BatchNormalization(),\n",
    "    tf.keras.layers.Dropout(0.4),\n",
    "\n",
    "    tf.keras.layers.Flatten(),\n",
    "    tf.keras.layers.Dense(50, activation='relu'),\n",
    "   \n",
    "   tf.keras.layers.Dense(1, activation='sigmoid')\n",
    "])\n",
    "\n",
    "model.summary()"
   ]
  },
  {
   "cell_type": "code",
   "execution_count": 136,
   "id": "42b2171f-bf2b-489b-9263-d71e99be33ca",
   "metadata": {},
   "outputs": [],
   "source": [
    "steps_per_epoch = 200\n",
    "boundaries = [steps_per_epoch * n for n in [25,50,75]]\n",
    "values = [1e-3,1e-4,1e-5,1e-6]\n",
    "lr_sched = tf.keras.optimizers.schedules.PiecewiseConstantDecay(boundaries, values)\n"
   ]
  },
  {
   "cell_type": "code",
   "execution_count": 137,
   "id": "26ab0d2e",
   "metadata": {},
   "outputs": [],
   "source": [
    "model.compile(optimizer=tf.keras.optimizers.Adam(lr_sched),\n",
    "              loss='binary_crossentropy',\n",
    "              metrics=['accuracy']\n",
    "             )"
   ]
  },
  {
   "cell_type": "code",
   "execution_count": 138,
   "id": "ed218635",
   "metadata": {},
   "outputs": [],
   "source": [
    "stopping = tf.keras.callbacks.EarlyStopping(monitor='val_accuracy',\n",
    "                                          patience=8,\n",
    "                                           verbose=1)"
   ]
  },
  {
   "cell_type": "code",
   "execution_count": 139,
   "id": "191967c8",
   "metadata": {},
   "outputs": [
    {
     "name": "stdout",
     "output_type": "stream",
     "text": [
      "Epoch 1/60\n",
      "163/163 [==============================] - 26s 153ms/step - loss: 0.2034 - accuracy: 0.9293 - val_loss: 2.3504 - val_accuracy: 0.6250\n",
      "Epoch 2/60\n",
      "163/163 [==============================] - 27s 162ms/step - loss: 0.0950 - accuracy: 0.9649 - val_loss: 3.3963 - val_accuracy: 0.5000\n",
      "Epoch 3/60\n",
      "163/163 [==============================] - 27s 163ms/step - loss: 0.0762 - accuracy: 0.9722 - val_loss: 0.4671 - val_accuracy: 0.7500\n",
      "Epoch 4/60\n",
      "163/163 [==============================] - 27s 162ms/step - loss: 0.0570 - accuracy: 0.9787 - val_loss: 0.1346 - val_accuracy: 1.0000\n",
      "Epoch 5/60\n",
      "163/163 [==============================] - 25s 153ms/step - loss: 0.0526 - accuracy: 0.9799 - val_loss: 0.9697 - val_accuracy: 0.7500\n",
      "Epoch 6/60\n",
      "163/163 [==============================] - 27s 161ms/step - loss: 0.0424 - accuracy: 0.9843 - val_loss: 3.6871 - val_accuracy: 0.5625\n",
      "Epoch 7/60\n",
      "163/163 [==============================] - 26s 158ms/step - loss: 0.0359 - accuracy: 0.9868 - val_loss: 0.9146 - val_accuracy: 0.6875\n",
      "Epoch 8/60\n",
      "163/163 [==============================] - 24s 145ms/step - loss: 0.0374 - accuracy: 0.9852 - val_loss: 0.3551 - val_accuracy: 0.9375\n",
      "Epoch 9/60\n",
      "163/163 [==============================] - 24s 146ms/step - loss: 0.0257 - accuracy: 0.9906 - val_loss: 0.5144 - val_accuracy: 0.8125\n",
      "Epoch 10/60\n",
      "163/163 [==============================] - 24s 147ms/step - loss: 0.0254 - accuracy: 0.9891 - val_loss: 0.4504 - val_accuracy: 0.8125\n",
      "Epoch 11/60\n",
      "163/163 [==============================] - 25s 150ms/step - loss: 0.0252 - accuracy: 0.9914 - val_loss: 0.4330 - val_accuracy: 0.7500\n",
      "Epoch 12/60\n",
      "163/163 [==============================] - 24s 147ms/step - loss: 0.0146 - accuracy: 0.9941 - val_loss: 1.3892 - val_accuracy: 0.5625\n",
      "Epoch 13/60\n",
      "163/163 [==============================] - 24s 148ms/step - loss: 0.0101 - accuracy: 0.9960 - val_loss: 1.5264 - val_accuracy: 0.6250\n",
      "Epoch 14/60\n",
      "163/163 [==============================] - 24s 147ms/step - loss: 0.0234 - accuracy: 0.9896 - val_loss: 0.1588 - val_accuracy: 0.9375\n",
      "Epoch 15/60\n",
      "163/163 [==============================] - 24s 145ms/step - loss: 0.0158 - accuracy: 0.9944 - val_loss: 0.1294 - val_accuracy: 0.8750\n",
      "Epoch 16/60\n",
      "163/163 [==============================] - 24s 144ms/step - loss: 0.0201 - accuracy: 0.9927 - val_loss: 3.0090 - val_accuracy: 0.5000\n",
      "Epoch 17/60\n",
      "163/163 [==============================] - 24s 145ms/step - loss: 0.0221 - accuracy: 0.9919 - val_loss: 0.1505 - val_accuracy: 0.9375\n",
      "Epoch 18/60\n",
      "163/163 [==============================] - 24s 145ms/step - loss: 0.0180 - accuracy: 0.9927 - val_loss: 0.2651 - val_accuracy: 0.8750\n",
      "Epoch 19/60\n",
      "163/163 [==============================] - 24s 145ms/step - loss: 0.0150 - accuracy: 0.9942 - val_loss: 0.8091 - val_accuracy: 0.8125\n",
      "Epoch 20/60\n",
      "163/163 [==============================] - 24s 145ms/step - loss: 0.0132 - accuracy: 0.9948 - val_loss: 0.4051 - val_accuracy: 0.8750\n",
      "Epoch 21/60\n",
      "163/163 [==============================] - 24s 144ms/step - loss: 0.0105 - accuracy: 0.9958 - val_loss: 0.2323 - val_accuracy: 0.9375\n",
      "Epoch 22/60\n",
      "163/163 [==============================] - 24s 145ms/step - loss: 0.0112 - accuracy: 0.9954 - val_loss: 2.0333 - val_accuracy: 0.6875\n",
      "Epoch 23/60\n",
      "163/163 [==============================] - 24s 145ms/step - loss: 0.0128 - accuracy: 0.9958 - val_loss: 0.1139 - val_accuracy: 0.9375\n",
      "Epoch 24/60\n",
      "163/163 [==============================] - 24s 145ms/step - loss: 0.0084 - accuracy: 0.9958 - val_loss: 0.0308 - val_accuracy: 1.0000\n",
      "Epoch 25/60\n",
      "163/163 [==============================] - 24s 146ms/step - loss: 0.0085 - accuracy: 0.9964 - val_loss: 5.2405e-04 - val_accuracy: 1.0000\n",
      "Epoch 26/60\n",
      "163/163 [==============================] - 24s 146ms/step - loss: 0.0071 - accuracy: 0.9971 - val_loss: 0.0648 - val_accuracy: 1.0000\n",
      "Epoch 27/60\n",
      "163/163 [==============================] - 24s 144ms/step - loss: 0.0101 - accuracy: 0.9964 - val_loss: 6.2205 - val_accuracy: 0.5000\n",
      "Epoch 28/60\n",
      "163/163 [==============================] - 24s 143ms/step - loss: 0.0192 - accuracy: 0.9944 - val_loss: 0.1346 - val_accuracy: 0.9375\n",
      "Epoch 29/60\n",
      "163/163 [==============================] - 23s 141ms/step - loss: 0.0117 - accuracy: 0.9960 - val_loss: 1.5929 - val_accuracy: 0.6875\n",
      "Epoch 30/60\n",
      "163/163 [==============================] - 23s 142ms/step - loss: 0.0064 - accuracy: 0.9971 - val_loss: 0.0112 - val_accuracy: 1.0000\n",
      "Epoch 31/60\n",
      "163/163 [==============================] - 23s 141ms/step - loss: 0.0053 - accuracy: 0.9979 - val_loss: 0.0015 - val_accuracy: 1.0000\n",
      "Epoch 32/60\n",
      "163/163 [==============================] - 23s 141ms/step - loss: 0.0031 - accuracy: 0.9987 - val_loss: 0.0082 - val_accuracy: 1.0000\n",
      "Epoch 33/60\n",
      "163/163 [==============================] - 23s 141ms/step - loss: 0.0019 - accuracy: 0.9992 - val_loss: 0.0191 - val_accuracy: 1.0000\n",
      "Epoch 34/60\n",
      "163/163 [==============================] - 23s 142ms/step - loss: 0.0019 - accuracy: 0.9994 - val_loss: 0.0203 - val_accuracy: 1.0000\n",
      "Epoch 35/60\n",
      "163/163 [==============================] - 23s 141ms/step - loss: 0.0012 - accuracy: 0.9994 - val_loss: 0.0191 - val_accuracy: 1.0000\n",
      "Epoch 36/60\n",
      "163/163 [==============================] - 23s 141ms/step - loss: 0.0013 - accuracy: 0.9994 - val_loss: 0.0322 - val_accuracy: 1.0000\n",
      "Epoch 37/60\n",
      "163/163 [==============================] - 23s 142ms/step - loss: 0.0010 - accuracy: 0.9996 - val_loss: 0.0219 - val_accuracy: 1.0000\n",
      "Epoch 38/60\n",
      "163/163 [==============================] - 23s 141ms/step - loss: 0.0013 - accuracy: 0.9992 - val_loss: 0.0193 - val_accuracy: 1.0000\n",
      "Epoch 39/60\n",
      "163/163 [==============================] - 23s 141ms/step - loss: 8.7906e-04 - accuracy: 0.9998 - val_loss: 0.0240 - val_accuracy: 1.0000\n",
      "Epoch 40/60\n",
      "163/163 [==============================] - 23s 142ms/step - loss: 7.7856e-04 - accuracy: 0.9996 - val_loss: 0.0134 - val_accuracy: 1.0000\n",
      "Epoch 41/60\n",
      "163/163 [==============================] - 23s 141ms/step - loss: 9.1158e-04 - accuracy: 0.9996 - val_loss: 0.0126 - val_accuracy: 1.0000\n",
      "Epoch 42/60\n",
      "163/163 [==============================] - 23s 141ms/step - loss: 8.4836e-04 - accuracy: 0.9996 - val_loss: 0.0283 - val_accuracy: 1.0000\n",
      "Epoch 43/60\n",
      "163/163 [==============================] - 23s 141ms/step - loss: 6.5092e-04 - accuracy: 0.9998 - val_loss: 0.0448 - val_accuracy: 1.0000\n",
      "Epoch 44/60\n",
      "163/163 [==============================] - 23s 141ms/step - loss: 9.4762e-04 - accuracy: 0.9996 - val_loss: 0.0118 - val_accuracy: 1.0000\n",
      "Epoch 45/60\n",
      "163/163 [==============================] - 23s 142ms/step - loss: 7.3749e-04 - accuracy: 0.9998 - val_loss: 0.0256 - val_accuracy: 1.0000\n",
      "Epoch 46/60\n",
      "163/163 [==============================] - 23s 141ms/step - loss: 7.5624e-04 - accuracy: 0.9996 - val_loss: 0.0126 - val_accuracy: 1.0000\n",
      "Epoch 47/60\n",
      "163/163 [==============================] - 23s 141ms/step - loss: 6.9722e-04 - accuracy: 0.9996 - val_loss: 0.0072 - val_accuracy: 1.0000\n",
      "Epoch 48/60\n",
      "163/163 [==============================] - 23s 141ms/step - loss: 6.6065e-04 - accuracy: 0.9998 - val_loss: 0.0040 - val_accuracy: 1.0000\n",
      "Epoch 49/60\n",
      "163/163 [==============================] - 23s 141ms/step - loss: 5.7755e-04 - accuracy: 0.9996 - val_loss: 0.0470 - val_accuracy: 0.9375\n",
      "Epoch 50/60\n",
      "163/163 [==============================] - 23s 142ms/step - loss: 5.6102e-04 - accuracy: 0.9998 - val_loss: 0.0285 - val_accuracy: 1.0000\n",
      "Epoch 51/60\n",
      "163/163 [==============================] - 23s 142ms/step - loss: 7.1963e-04 - accuracy: 0.9996 - val_loss: 7.6136e-04 - val_accuracy: 1.0000\n",
      "Epoch 52/60\n",
      "163/163 [==============================] - 23s 142ms/step - loss: 6.4342e-04 - accuracy: 0.9998 - val_loss: 0.0109 - val_accuracy: 1.0000\n",
      "Epoch 53/60\n",
      "163/163 [==============================] - 23s 141ms/step - loss: 5.7553e-04 - accuracy: 0.9996 - val_loss: 0.0346 - val_accuracy: 1.0000\n",
      "Epoch 54/60\n",
      "163/163 [==============================] - 23s 141ms/step - loss: 5.5843e-04 - accuracy: 0.9998 - val_loss: 0.0067 - val_accuracy: 1.0000\n",
      "Epoch 55/60\n",
      "163/163 [==============================] - 23s 141ms/step - loss: 4.4115e-04 - accuracy: 0.9996 - val_loss: 0.0100 - val_accuracy: 1.0000\n",
      "Epoch 56/60\n",
      "163/163 [==============================] - 23s 141ms/step - loss: 5.9046e-04 - accuracy: 0.9996 - val_loss: 0.0327 - val_accuracy: 1.0000\n",
      "Epoch 57/60\n",
      "163/163 [==============================] - 23s 141ms/step - loss: 4.7466e-04 - accuracy: 0.9996 - val_loss: 0.0074 - val_accuracy: 1.0000\n",
      "Epoch 58/60\n",
      "163/163 [==============================] - 23s 142ms/step - loss: 5.3815e-04 - accuracy: 0.9998 - val_loss: 0.0109 - val_accuracy: 1.0000\n",
      "Epoch 59/60\n",
      "163/163 [==============================] - 23s 141ms/step - loss: 5.8266e-04 - accuracy: 0.9996 - val_loss: 0.0152 - val_accuracy: 1.0000\n",
      "Epoch 60/60\n",
      "163/163 [==============================] - 23s 141ms/step - loss: 4.7271e-04 - accuracy: 0.9998 - val_loss: 0.0204 - val_accuracy: 1.0000\n"
     ]
    }
   ],
   "source": [
    "history = model.fit(df_1,\n",
    "                    validation_data=(df_2),\n",
    "                    batch_size=1000,\n",
    "                    epochs=60,\n",
    "                    callbacks=stopping\n",
    "                   )"
   ]
  },
  {
   "cell_type": "code",
   "execution_count": 140,
   "id": "c59d36b0",
   "metadata": {},
   "outputs": [
    {
     "data": {
      "text/plain": [
       "<matplotlib.legend.Legend at 0x1f2d5e1fca0>"
      ]
     },
     "execution_count": 140,
     "metadata": {},
     "output_type": "execute_result"
    },
    {
     "data": {
      "image/png": "[encoded data removed]",
      "text/plain": [
       "<Figure size 640x480 with 1 Axes>"
      ]
     },
     "metadata": {},
     "output_type": "display_data"
    }
   ],
   "source": [
    "plt.plot(history.history['loss'][2:])\n",
    "plt.plot(history.history['val_loss'][2:])\n",
    "plt.legend(['loss', 'val_loss'])"
   ]
  },
  {
   "cell_type": "code",
   "execution_count": 141,
   "id": "96064735-3b9a-49dd-9a0d-6da4822fba5a",
   "metadata": {},
   "outputs": [
    {
     "name": "stdout",
     "output_type": "stream",
     "text": [
      "Максимальная точность тренировочной выборки 0.9998.\n",
      "Максимальная точность валидационной выборки 1.0.\n"
     ]
    }
   ],
   "source": [
    "print(f\"Максимальная точность тренировочной выборки {round(max(history.history['accuracy']), 4)}.\")\n",
    "print(f\"Максимальная точность валидационной выборки {round(max(history.history['val_accuracy']), 4)}.\")"
   ]
  },
  {
   "cell_type": "code",
   "execution_count": 289,
   "id": "cd6dac03",
   "metadata": {},
   "outputs": [
    {
     "name": "stdout",
     "output_type": "stream",
     "text": [
      "Found 624 files belonging to 2 classes.\n"
     ]
    }
   ],
   "source": [
    "test = tf.keras.utils.image_dataset_from_directory('G:/Lessons/DS/Try/My_own/Pnevmonia/Archive/chest_xray/test')"
   ]
  },
  {
   "cell_type": "code",
   "execution_count": 142,
   "id": "73ab37ca-c68b-4715-8b57-d73d3bb44c5c",
   "metadata": {},
   "outputs": [
    {
     "name": "stdout",
     "output_type": "stream",
     "text": [
      "20/20 [==============================] - 1s 41ms/step - loss: 3.8599 - accuracy: 0.7516\n"
     ]
    }
   ],
   "source": [
    "test_pred = model.evaluate(\n",
    "    x=test,\n",
    "    batch_size=None,\n",
    "    verbose=\"auto\",\n",
    "    steps=None,\n",
    "    callbacks=None,\n",
    ")"
   ]
  },
  {
   "cell_type": "code",
   "execution_count": 143,
   "id": "15cc234a-9041-40dd-a010-ab8cdaf1b04d",
   "metadata": {},
   "outputs": [
    {
     "name": "stdout",
     "output_type": "stream",
     "text": [
      "Точность тестовой выборки 0.752.\n"
     ]
    }
   ],
   "source": [
    "print(f\"Точность тестовой выборки {round(test_pred[1], 3)}.\")\n"
   ]
  },
  {
   "cell_type": "code",
   "execution_count": null,
   "id": "3cc6bfcf-e1fb-41a7-97d2-888606f8c5ea",
   "metadata": {},
   "outputs": [],
   "source": [
    "# получил низкую точность на тестовой выборке. Нужна доработка текущей модели, либо использование уже готовой предобученой модели."
   ]
  },
  {
   "cell_type": "code",
   "execution_count": null,
   "id": "5d7b2b0f-8748-43de-a670-5a9be4277575",
   "metadata": {},
   "outputs": [],
   "source": []
  },
  {
   "cell_type": "code",
   "execution_count": 6,
   "id": "8fd25d69-6933-4762-8416-613aebe9c721",
   "metadata": {},
   "outputs": [],
   "source": [
    "from tensorflow.keras.layers import Input\n",
    "\n",
    "input_tensor = Input(shape=(256, 256, 3))"
   ]
  },
  {
   "cell_type": "code",
   "execution_count": 8,
   "id": "7c933a43-5c8f-43c0-a238-1325945d8129",
   "metadata": {},
   "outputs": [
    {
     "name": "stdout",
     "output_type": "stream",
     "text": [
      "Model: \"model\"\n",
      "_________________________________________________________________\n",
      " Layer (type)                Output Shape              Param #   \n",
      "=================================================================\n",
      " input_3 (InputLayer)        [(None, 256, 256, 3)]     0         \n",
      "                                                                 \n",
      " efficientnetb2 (Functional)  (None, 8, 8, 1408)       7768569   \n",
      "                                                                 \n",
      " global_average_pooling2d (G  (None, 1408)             0         \n",
      " lobalAveragePooling2D)                                          \n",
      "                                                                 \n",
      " dense (Dense)               (None, 1)                 1409      \n",
      "                                                                 \n",
      "=================================================================\n",
      "Total params: 7,769,978\n",
      "Trainable params: 1,409\n",
      "Non-trainable params: 7,768,569\n",
      "_________________________________________________________________\n"
     ]
    }
   ],
   "source": [
    "# для начала попробовал версию B0, в итоге остановился на B2 т.к. она давала неплохую точность при небольшом использовании ресуросов ПК.\n",
    "# думаю попробовать более сложные версии этой же архитектуры.\n",
    "\n",
    "base_model = tf.keras.applications.EfficientNetB2(\n",
    "    weights='imagenet',\n",
    "    input_shape=(256, 256, 3),\n",
    "    include_top=False\n",
    ")\n",
    "\n",
    "base_model.trainable = False\n",
    "\n",
    "inputs = tf.keras.Input(shape=(256, 256, 3))\n",
    "                     \n",
    "x = base_model(inputs, training=False)\n",
    "\n",
    "x = tf.keras.layers.GlobalAveragePooling2D()(x)\n",
    "\n",
    "outputs = tf.keras.layers.Dense(1)(x)\n",
    "\n",
    "model_2 = tf.keras.Model(inputs, outputs)\n",
    "\n",
    "model_2.summary()"
   ]
  },
  {
   "cell_type": "code",
   "execution_count": 66,
   "id": "812fe4a4-9224-4900-a617-1479f23ee42d",
   "metadata": {},
   "outputs": [],
   "source": [
    "# пробовал разные оптимизаторы, но Адам показал себя лучше всех. Причем, уменьшение лернинг рейта приводило к ухудшению точности на порядок.\n",
    "\n",
    "model_2.compile(optimizer=tf.keras.optimizers.Adam(0.001), \n",
    "                loss=tf.keras.losses.BinaryCrossentropy(from_logits=True), \n",
    "                metrics=[tf.keras.metrics.BinaryAccuracy()]\n",
    "               )"
   ]
  },
  {
   "cell_type": "code",
   "execution_count": 67,
   "id": "ca2ea9ab-c940-4f7c-8ce9-0b82bf6630ac",
   "metadata": {},
   "outputs": [],
   "source": [
    "stopping = tf.keras.callbacks.EarlyStopping(monitor='val_binary_accuracy',\n",
    "                                          patience=6,\n",
    "                                           verbose=1\n",
    "                                           )"
   ]
  },
  {
   "cell_type": "code",
   "execution_count": 68,
   "id": "b2569bbf-5428-4da6-90cd-3f52ced33e5e",
   "metadata": {},
   "outputs": [
    {
     "name": "stdout",
     "output_type": "stream",
     "text": [
      "Found 5216 images belonging to 2 classes.\n",
      "Found 16 images belonging to 2 classes.\n"
     ]
    }
   ],
   "source": [
    "# создадим генератор изображений для аугментации датасета.Это особенно важно для валидационной выборки, т.к. она крайне мала в начальном датасете.\n",
    "\n",
    "datagen = tf.keras.preprocessing.image.ImageDataGenerator(\n",
    "            zoom_range=0.5,\n",
    "            horizontal_flip=True,\n",
    "            rotation_range=45,\n",
    "            width_shift_range=0.4,\n",
    "            height_shift_range=0.4,\n",
    ")\n",
    "\n",
    "train_generator = datagen.flow_from_directory('G:/Lessons/DS/Try/My_own/Pnevmonia/Archive/chest_xray/train/',batch_size=10,\n",
    "        class_mode='binary')\n",
    "\n",
    "valid_generator = datagen.flow_from_directory('G:/Lessons/DS/Try/My_own/Pnevmonia/Archive/chest_xray/val/',batch_size=10,\n",
    "        class_mode='binary')"
   ]
  },
  {
   "cell_type": "code",
   "execution_count": 75,
   "id": "7185e714-a10e-4b04-9639-777379ac659c",
   "metadata": {},
   "outputs": [
    {
     "name": "stdout",
     "output_type": "stream",
     "text": [
      "Epoch 1/25\n",
      "522/522 [==============================] - 77s 147ms/step - loss: 0.1319 - binary_accuracy: 0.9467 - val_loss: 0.7171 - val_binary_accuracy: 0.8125\n",
      "Epoch 2/25\n",
      "522/522 [==============================] - 78s 150ms/step - loss: 0.1330 - binary_accuracy: 0.9440 - val_loss: 0.5198 - val_binary_accuracy: 0.8750\n",
      "Epoch 3/25\n",
      "522/522 [==============================] - 76s 145ms/step - loss: 0.1279 - binary_accuracy: 0.9503 - val_loss: 0.3632 - val_binary_accuracy: 0.8750\n",
      "Epoch 4/25\n",
      "522/522 [==============================] - 75s 144ms/step - loss: 0.1336 - binary_accuracy: 0.9427 - val_loss: 0.4477 - val_binary_accuracy: 0.8125\n",
      "Epoch 5/25\n",
      "522/522 [==============================] - 76s 145ms/step - loss: 0.1261 - binary_accuracy: 0.9484 - val_loss: 0.4854 - val_binary_accuracy: 0.8750\n",
      "Epoch 6/25\n",
      "522/522 [==============================] - 90s 173ms/step - loss: 0.1286 - binary_accuracy: 0.9498 - val_loss: 0.5235 - val_binary_accuracy: 0.7500\n",
      "Epoch 7/25\n",
      "522/522 [==============================] - 84s 161ms/step - loss: 0.1204 - binary_accuracy: 0.9467 - val_loss: 0.3002 - val_binary_accuracy: 0.8750\n",
      "Epoch 8/25\n",
      "522/522 [==============================] - 92s 176ms/step - loss: 0.1321 - binary_accuracy: 0.9471 - val_loss: 0.2575 - val_binary_accuracy: 0.9375\n",
      "Epoch 9/25\n",
      "522/522 [==============================] - 79s 151ms/step - loss: 0.1296 - binary_accuracy: 0.9457 - val_loss: 0.2947 - val_binary_accuracy: 0.8750\n",
      "Epoch 10/25\n",
      "522/522 [==============================] - 80s 152ms/step - loss: 0.1212 - binary_accuracy: 0.9498 - val_loss: 0.2753 - val_binary_accuracy: 0.9375\n",
      "Epoch 11/25\n",
      "522/522 [==============================] - 77s 147ms/step - loss: 0.1291 - binary_accuracy: 0.9479 - val_loss: 0.5257 - val_binary_accuracy: 0.8125\n",
      "Epoch 12/25\n",
      "522/522 [==============================] - 78s 150ms/step - loss: 0.1229 - binary_accuracy: 0.9515 - val_loss: 0.2728 - val_binary_accuracy: 0.8750\n",
      "Epoch 13/25\n",
      "522/522 [==============================] - 78s 149ms/step - loss: 0.1271 - binary_accuracy: 0.9465 - val_loss: 0.4366 - val_binary_accuracy: 0.9375\n",
      "Epoch 14/25\n",
      "522/522 [==============================] - 78s 149ms/step - loss: 0.1163 - binary_accuracy: 0.9542 - val_loss: 0.2539 - val_binary_accuracy: 0.8750\n",
      "Epoch 14: early stopping\n"
     ]
    }
   ],
   "source": [
    "history_2 = model_2.fit(train_generator,\n",
    "                    validation_data=valid_generator,\n",
    "                    batch_size=20,\n",
    "                    epochs=25,\n",
    "                    callbacks=stopping\n",
    "                   )"
   ]
  },
  {
   "cell_type": "code",
   "execution_count": 83,
   "id": "22778fa8-4650-479c-9e36-e122aa9b271f",
   "metadata": {},
   "outputs": [
    {
     "name": "stdout",
     "output_type": "stream",
     "text": [
      "Максимальная точность тренировочной выборки 95.42%.\n",
      "Максимальная точность валидационной выборки 93.75%.\n"
     ]
    }
   ],
   "source": [
    "print(f\"Максимальная точность тренировочной выборки {round(max(history_2.history['binary_accuracy'])*100, 2)}%.\")\n",
    "print(f\"Максимальная точность валидационной выборки {round(max(history_2.history['val_binary_accuracy'])*100, 2)}%.\")"
   ]
  },
  {
   "cell_type": "code",
   "execution_count": 77,
   "id": "892d33d6-8f07-4ef2-90ca-ade78d4aac0c",
   "metadata": {},
   "outputs": [
    {
     "data": {
      "text/plain": [
       "<matplotlib.legend.Legend at 0x1bc6bf37fd0>"
      ]
     },
     "execution_count": 77,
     "metadata": {},
     "output_type": "execute_result"
    },
    {
     "data": {
      "image/png": "[encoded data removed]",
      "text/plain": [
       "<Figure size 640x480 with 1 Axes>"
      ]
     },
     "metadata": {},
     "output_type": "display_data"
    }
   ],
   "source": [
    "plt.plot(history_2.history['loss'][2:])\n",
    "plt.plot(history_2.history['val_loss'][2:])\n",
    "plt.legend(['loss', 'val_loss'])"
   ]
  },
  {
   "cell_type": "code",
   "execution_count": 78,
   "id": "7c319c13-8da4-4583-b8ec-fc9d61017bdb",
   "metadata": {},
   "outputs": [
    {
     "name": "stdout",
     "output_type": "stream",
     "text": [
      "Found 624 files belonging to 2 classes.\n"
     ]
    }
   ],
   "source": [
    "test = tf.keras.utils.image_dataset_from_directory('G:/Lessons/DS/Try/My_own/Pnevmonia/Archive/chest_xray/test')"
   ]
  },
  {
   "cell_type": "code",
   "execution_count": 79,
   "id": "04876c9b-e6dd-4e83-9174-7d0dd5d5593e",
   "metadata": {},
   "outputs": [
    {
     "name": "stdout",
     "output_type": "stream",
     "text": [
      "20/20 [==============================] - 2s 62ms/step - loss: 0.2164 - binary_accuracy: 0.9119\n"
     ]
    }
   ],
   "source": [
    "test_pred = model_2.evaluate(\n",
    "    x=test,\n",
    "    batch_size=None,\n",
    "    verbose=\"auto\",\n",
    "    steps=None,\n",
    "    callbacks=None,\n",
    ")"
   ]
  },
  {
   "cell_type": "code",
   "execution_count": 81,
   "id": "a8d887f6-1bdf-43b1-a541-a28f305b279c",
   "metadata": {},
   "outputs": [
    {
     "name": "stdout",
     "output_type": "stream",
     "text": [
      "Точность тестовой выборки 91.19%\n"
     ]
    }
   ],
   "source": [
    "print(f\"Точность тестовой выборки {round(test_pred[1]*100, 2)}%\")"
   ]
  },
  {
   "cell_type": "code",
   "execution_count": null,
   "id": "92aa767d-0979-40e6-aeba-f287321bd4cc",
   "metadata": {},
   "outputs": [],
   "source": [
    "# Точность стала выше 90%, что уже неплохо. Можно попробовать усложнить аугментацию и выбрать более сложную модель нейронки."
   ]
  }
 ],
 "metadata": {
  "kernelspec": {
   "display_name": "Python 3 (ipykernel)",
   "language": "python",
   "name": "python3"
  },
  "language_info": {
   "codemirror_mode": {
    "name": "ipython",
    "version": 3
   },
   "file_extension": ".py",
   "mimetype": "text/x-python",
   "name": "python",
   "nbconvert_exporter": "python",
   "pygments_lexer": "ipython3",
   "version": "3.10.0"
  }
 },
 "nbformat": 4,
 "nbformat_minor": 5
}
