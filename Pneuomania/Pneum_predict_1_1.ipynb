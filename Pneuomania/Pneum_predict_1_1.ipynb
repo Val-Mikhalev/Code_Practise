{
 "cells": [
  {
   "cell_type": "code",
   "execution_count": 14,
   "id": "382a8ce8",
   "metadata": {},
   "outputs": [],
   "source": [
    "import tensorflow as tf\n",
    "import matplotlib.pyplot as plt\n",
    "import os\n",
    "import numpy as np"
   ]
  },
  {
   "cell_type": "code",
   "execution_count": 2,
   "id": "a420ddfe",
   "metadata": {},
   "outputs": [],
   "source": [
    "np.random.seed(17)\n",
    "tf.random.set_seed(17)"
   ]
  },
  {
   "cell_type": "code",
   "execution_count": 3,
   "id": "6372ca81",
   "metadata": {},
   "outputs": [
    {
     "name": "stdout",
     "output_type": "stream",
     "text": [
      "Found 5216 files belonging to 2 classes.\n"
     ]
    }
   ],
   "source": [
    "df_1 = tf.keras.utils.image_dataset_from_directory('G:/Lessons/DS/Try/My_own/Pnevmonia/Archive/chest_xray/train/', labels='inferred', seed = 17)"
   ]
  },
  {
   "cell_type": "code",
   "execution_count": 4,
   "id": "f9ab2661",
   "metadata": {},
   "outputs": [
    {
     "name": "stdout",
     "output_type": "stream",
     "text": [
      "Found 16 files belonging to 2 classes.\n"
     ]
    }
   ],
   "source": [
    "df_2 = tf.keras.utils.image_dataset_from_directory('G:/Lessons/DS/Try/My_own/Pnevmonia/Archive/chest_xray/val', labels = 'inferred', seed = 17)\n"
   ]
  },
  {
   "cell_type": "code",
   "execution_count": 6,
   "id": "b497bc90",
   "metadata": {},
   "outputs": [
    {
     "name": "stdout",
     "output_type": "stream",
     "text": [
      "WARNING:tensorflow:From C:\\Users\\valmi\\AppData\\Local\\Programs\\Python\\Python310\\lib\\site-packages\\keras\\src\\saving\\legacy\\saved_model\\load.py:107: The name tf.gfile.Exists is deprecated. Please use tf.io.gfile.exists instead.\n",
      "\n"
     ]
    }
   ],
   "source": [
    "model = tf.keras.models.load_model('canser_predict_ver_1_1')"
   ]
  },
  {
   "cell_type": "code",
   "execution_count": 8,
   "id": "be28111f",
   "metadata": {},
   "outputs": [
    {
     "name": "stdout",
     "output_type": "stream",
     "text": [
      "Model: \"sequential_1\"\n",
      "_________________________________________________________________\n",
      " Layer (type)                Output Shape              Param #   \n",
      "=================================================================\n",
      " conv2d_6 (Conv2D)           (None, 254, 254, 64)      1792      \n",
      "                                                                 \n",
      " max_pooling2d_6 (MaxPoolin  (None, 127, 127, 64)      0         \n",
      " g2D)                                                            \n",
      "                                                                 \n",
      " conv2d_7 (Conv2D)           (None, 125, 125, 96)      55392     \n",
      "                                                                 \n",
      " max_pooling2d_7 (MaxPoolin  (None, 62, 62, 96)        0         \n",
      " g2D)                                                            \n",
      "                                                                 \n",
      " batch_normalization_1 (Bat  (None, 62, 62, 96)        384       \n",
      " chNormalization)                                                \n",
      "                                                                 \n",
      " conv2d_8 (Conv2D)           (None, 60, 60, 128)       110720    \n",
      "                                                                 \n",
      " max_pooling2d_8 (MaxPoolin  (None, 30, 30, 128)       0         \n",
      " g2D)                                                            \n",
      "                                                                 \n",
      " batch_normalization_2 (Bat  (None, 30, 30, 128)       512       \n",
      " chNormalization)                                                \n",
      "                                                                 \n",
      " conv2d_9 (Conv2D)           (None, 28, 28, 128)       147584    \n",
      "                                                                 \n",
      " max_pooling2d_9 (MaxPoolin  (None, 14, 14, 128)       0         \n",
      " g2D)                                                            \n",
      "                                                                 \n",
      " batch_normalization_3 (Bat  (None, 14, 14, 128)       512       \n",
      " chNormalization)                                                \n",
      "                                                                 \n",
      " flatten_1 (Flatten)         (None, 25088)             0         \n",
      "                                                                 \n",
      " dense_2 (Dense)             (None, 512)               12845568  \n",
      "                                                                 \n",
      " dense_3 (Dense)             (None, 1)                 513       \n",
      "                                                                 \n",
      "=================================================================\n",
      "Total params: 13162977 (50.21 MB)\n",
      "Trainable params: 13162273 (50.21 MB)\n",
      "Non-trainable params: 704 (2.75 KB)\n",
      "_________________________________________________________________\n"
     ]
    }
   ],
   "source": [
    "model = tf.keras.models.Sequential([\n",
    "    tf.keras.layers.Conv2D(64, (3,3), activation='relu', input_shape=(256, 256, 3)),\n",
    "    tf.keras.layers.MaxPooling2D(2, 2),\n",
    "        \n",
    "    tf.keras.layers.Conv2D(96, (3,3), activation='relu'),\n",
    "    tf.keras.layers.MaxPooling2D(2,2),\n",
    "    tf.keras.layers.BatchNormalization(),\n",
    "\n",
    "    tf.keras.layers.Conv2D(128, (3,3), activation='relu'),\n",
    "    tf.keras.layers.MaxPooling2D(2,2),\n",
    "    tf.keras.layers.BatchNormalization(),\n",
    "    \n",
    "    tf.keras.layers.Conv2D(128, (3,3), activation='relu'),\n",
    "    tf.keras.layers.MaxPooling2D(2,2),\n",
    "    tf.keras.layers.BatchNormalization(),\n",
    "\n",
    "    tf.keras.layers.Flatten(),\n",
    "    tf.keras.layers.Dense(512, activation='relu'),\n",
    "   \n",
    "   tf.keras.layers.Dense(1, activation='sigmoid')\n",
    "])\n",
    "\n",
    "model.summary()"
   ]
  },
  {
   "cell_type": "code",
   "execution_count": 9,
   "id": "26ab0d2e",
   "metadata": {},
   "outputs": [],
   "source": [
    "model.compile(optimizer=tf.keras.optimizers.Adam(learning_rate = 0.001),\n",
    "              loss='binary_crossentropy',\n",
    "              metrics=['accuracy']\n",
    "             )"
   ]
  },
  {
   "cell_type": "code",
   "execution_count": 10,
   "id": "ed218635",
   "metadata": {},
   "outputs": [],
   "source": [
    "stopping = tf.keras.callbacks.EarlyStopping(monitor='val_loss',\n",
    "                                          patience=4,\n",
    "                                           verbose=1)"
   ]
  },
  {
   "cell_type": "code",
   "execution_count": 11,
   "id": "191967c8",
   "metadata": {},
   "outputs": [
    {
     "name": "stdout",
     "output_type": "stream",
     "text": [
      "Epoch 1/10\n",
      "WARNING:tensorflow:From C:\\Users\\valmi\\AppData\\Local\\Programs\\Python\\Python310\\lib\\site-packages\\keras\\src\\utils\\tf_utils.py:492: The name tf.ragged.RaggedTensorValue is deprecated. Please use tf.compat.v1.ragged.RaggedTensorValue instead.\n",
      "\n",
      "WARNING:tensorflow:From C:\\Users\\valmi\\AppData\\Local\\Programs\\Python\\Python310\\lib\\site-packages\\keras\\src\\engine\\base_layer_utils.py:384: The name tf.executing_eagerly_outside_functions is deprecated. Please use tf.compat.v1.executing_eagerly_outside_functions instead.\n",
      "\n",
      "163/163 [==============================] - 184s 1s/step - loss: 0.3769 - accuracy: 0.9385 - val_loss: 0.2496 - val_accuracy: 0.8750\n",
      "Epoch 2/10\n",
      "163/163 [==============================] - 187s 1s/step - loss: 0.0908 - accuracy: 0.9691 - val_loss: 0.5826 - val_accuracy: 0.6875\n",
      "Epoch 3/10\n",
      "163/163 [==============================] - 197s 1s/step - loss: 0.0521 - accuracy: 0.9824 - val_loss: 0.2761 - val_accuracy: 0.8125\n",
      "Epoch 4/10\n",
      "163/163 [==============================] - 201s 1s/step - loss: 0.0418 - accuracy: 0.9854 - val_loss: 0.2177 - val_accuracy: 0.8750\n",
      "Epoch 5/10\n",
      "163/163 [==============================] - 194s 1s/step - loss: 0.0267 - accuracy: 0.9895 - val_loss: 0.0776 - val_accuracy: 0.9375\n",
      "Epoch 6/10\n",
      "163/163 [==============================] - 195s 1s/step - loss: 0.0104 - accuracy: 0.9973 - val_loss: 0.0441 - val_accuracy: 1.0000\n",
      "Epoch 7/10\n",
      "163/163 [==============================] - 189s 1s/step - loss: 0.0199 - accuracy: 0.9929 - val_loss: 0.1030 - val_accuracy: 1.0000\n",
      "Epoch 8/10\n",
      "163/163 [==============================] - 189s 1s/step - loss: 0.0420 - accuracy: 0.9856 - val_loss: 0.8479 - val_accuracy: 0.7500\n",
      "Epoch 9/10\n",
      "163/163 [==============================] - 191s 1s/step - loss: 0.0266 - accuracy: 0.9908 - val_loss: 0.1650 - val_accuracy: 0.8750\n",
      "Epoch 10/10\n",
      "163/163 [==============================] - 197s 1s/step - loss: 0.0084 - accuracy: 0.9965 - val_loss: 0.0802 - val_accuracy: 1.0000\n"
     ]
    }
   ],
   "source": [
    "history = model.fit(df_1,\n",
    "                    validation_data=(df_2),\n",
    "                    batch_size=1000,\n",
    "                    epochs=10,\n",
    "                   )"
   ]
  },
  {
   "cell_type": "code",
   "execution_count": 15,
   "id": "c59d36b0",
   "metadata": {},
   "outputs": [
    {
     "data": {
      "text/plain": [
       "<matplotlib.legend.Legend at 0x20f49592f80>"
      ]
     },
     "execution_count": 15,
     "metadata": {},
     "output_type": "execute_result"
    },
    {
     "data": {
      "image/png": "[encoded data removed]",
      "text/plain": [
       "<Figure size 640x480 with 1 Axes>"
      ]
     },
     "metadata": {},
     "output_type": "display_data"
    }
   ],
   "source": [
    "plt.plot(history.history['loss'][2:])\n",
    "plt.plot(history.history['val_loss'][2:])\n",
    "plt.legend(['loss', 'val_loss'])"
   ]
  },
  {
   "cell_type": "code",
   "execution_count": 26,
   "id": "96064735-3b9a-49dd-9a0d-6da4822fba5a",
   "metadata": {},
   "outputs": [
    {
     "name": "stdout",
     "output_type": "stream",
     "text": [
      "Максимальная точность тренировочной выборки 0.997.\n",
      "Максимальная точность валидационной выборки 1.0.\n"
     ]
    }
   ],
   "source": [
    "print(f\"Максимальная точность тренировочной выборки {round(max(history.history['accuracy']), 3)}.\")\n",
    "print(f\"Максимальная точность валидационной выборки {round(max(history.history['val_accuracy']), 3)}.\")"
   ]
  },
  {
   "cell_type": "code",
   "execution_count": 23,
   "id": "59327509",
   "metadata": {},
   "outputs": [
    {
     "name": "stdout",
     "output_type": "stream",
     "text": [
      "INFO:tensorflow:Assets written to: pnevm_predict_ver_1_1\\assets\n"
     ]
    },
    {
     "name": "stderr",
     "output_type": "stream",
     "text": [
      "INFO:tensorflow:Assets written to: pnevm_predict_ver_1_1\\assets\n"
     ]
    }
   ],
   "source": [
    "model.save(\"pnevm_predict_ver_1_1\")"
   ]
  },
  {
   "cell_type": "code",
   "execution_count": 28,
   "id": "cd6dac03",
   "metadata": {},
   "outputs": [
    {
     "name": "stdout",
     "output_type": "stream",
     "text": [
      "Found 624 files belonging to 2 classes.\n"
     ]
    }
   ],
   "source": [
    "test = tf.keras.utils.image_dataset_from_directory('G:/Lessons/DS/Try/My_own/Pnevmonia/Archive/chest_xray/test', labels = 'inferred', seed = 17)"
   ]
  },
  {
   "cell_type": "code",
   "execution_count": 31,
   "id": "73ab37ca-c68b-4715-8b57-d73d3bb44c5c",
   "metadata": {},
   "outputs": [
    {
     "name": "stdout",
     "output_type": "stream",
     "text": [
      "20/20 [==============================] - 5s 221ms/step - loss: 2.0576 - accuracy: 0.7308\n"
     ]
    }
   ],
   "source": [
    "test_pred = model.evaluate(\n",
    "    x=test,\n",
    "    batch_size=None,\n",
    "    verbose=\"auto\",\n",
    "    sample_weight=None,\n",
    "    steps=None,\n",
    "    callbacks=None,\n",
    "    return_dict=False,\n",
    ")"
   ]
  },
  {
   "cell_type": "code",
   "execution_count": 33,
   "id": "15cc234a-9041-40dd-a010-ab8cdaf1b04d",
   "metadata": {},
   "outputs": [
    {
     "name": "stdout",
     "output_type": "stream",
     "text": [
      "Точность тестовой выборки 0.731.\n"
     ]
    }
   ],
   "source": [
    "print(f\"Точность тестовой выборки {round(test_pred[1], 3)}.\")"
   ]
  },
  {
   "cell_type": "code",
   "execution_count": null,
   "id": "3cc6bfcf-e1fb-41a7-97d2-888606f8c5ea",
   "metadata": {},
   "outputs": [],
   "source": [
    "# получил низкую точность на тестовой выборке. Нужна доработка текущей модели, либо использование уже готовой предобученой модели."
   ]
  }
 ],
 "metadata": {
  "kernelspec": {
   "display_name": "Python 3 (ipykernel)",
   "language": "python",
   "name": "python3"
  },
  "language_info": {
   "codemirror_mode": {
    "name": "ipython",
    "version": 3
   },
   "file_extension": ".py",
   "mimetype": "text/x-python",
   "name": "python",
   "nbconvert_exporter": "python",
   "pygments_lexer": "ipython3",
   "version": "3.10.0"
  }
 },
 "nbformat": 4,
 "nbformat_minor": 5
}
