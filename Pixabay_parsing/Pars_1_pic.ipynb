{
 "cells": [
  {
   "cell_type": "code",
   "execution_count": null,
   "id": "38d11ae6",
   "metadata": {},
   "outputs": [],
   "source": [
    "import random\n",
    "import requests\n",
    "from IPython.display import Image\n",
    "\n",
    "key = input(\"Введите ваш api_key:\")\n",
    "tag = input(\"Введите тег:\")\n",
    "url = f\"https://pixabay.com/api/?key={key}&q={tag}&image_type=photo\"\n",
    "\n",
    "response = requests.get(url)\n",
    "data = response.json()\n",
    "\n",
    "random_hit = random.choice(data[\"hits\"])\n",
    "image_url = random_hit['largeImageURL']\n",
    "image_data = requests.get(image_url).content\n",
    "\n",
    "Image(image_data, width = 1000)"
   ]
  },
  {
   "cell_type": "code",
   "execution_count": null,
   "id": "d12920f3",
   "metadata": {},
   "outputs": [],
   "source": []
  }
 ],
 "metadata": {
  "kernelspec": {
   "display_name": "Python 3 (ipykernel)",
   "language": "python",
   "name": "python3"
  },
  "language_info": {
   "codemirror_mode": {
    "name": "ipython",
    "version": 3
   },
   "file_extension": ".py",
   "mimetype": "text/x-python",
   "name": "python",
   "nbconvert_exporter": "python",
   "pygments_lexer": "ipython3",
   "version": "3.11.3"
  }
 },
 "nbformat": 4,
 "nbformat_minor": 5
}
