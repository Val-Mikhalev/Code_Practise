{
 "cells": [
  {
   "cell_type": "code",
   "execution_count": null,
   "id": "60611be0",
   "metadata": {},
   "outputs": [],
   "source": [
    "def spiral_matrix(n):    # функция заполнения одномернной матрицы по спирали\n",
    "    mat = [[0] * n for i in range(n)] # создание матрицы с нулями\n",
    "\n",
    "    x, y = 0, -1    # начальная точка отсчета.\n",
    "\n",
    "    d_x = 0    # шаги по оси х и у\n",
    "    d_y = 1\n",
    "\n",
    "    i = 1    # количество сделанных шагов. не должно превышать количество чисел в матрице\n",
    "    \n",
    "    while i <= n**2:\n",
    "        if 0 <= x + d_x < n and 0 <= y + d_y < n and mat[x + d_x][y + d_y] == 0: # проверка ячейки на заполненность\n",
    "            x += d_x      # далее движение либо по оси х, либо дальше по у и т.д.\n",
    "            y += d_y\n",
    "            mat[x][y] = i\n",
    "            i += 1\n",
    "        elif d_y == 1:\n",
    "            d_y = 0\n",
    "            d_x = 1\n",
    "        else:\n",
    "            if d_x == 1:\n",
    "                d_x = 0\n",
    "                d_y = -1\n",
    "            elif d_y == -1:\n",
    "                d_y = 0\n",
    "                d_x = -1\n",
    "            else:\n",
    "                d_x = 0\n",
    "                d_y = 1\n",
    "                            \n",
    "    for i in range(n):\n",
    "        for j in range(n):\n",
    "            print(str(mat[i][j]).ljust(len(str(n**2)) + 1), end=\"\") # выводим с рассчетом отступа между ячейками\n",
    "        print()\n",
    "        "
   ]
  }
 ],
 "metadata": {
  "kernelspec": {
   "display_name": "Python 3 (ipykernel)",
   "language": "python",
   "name": "python3"
  },
  "language_info": {
   "codemirror_mode": {
    "name": "ipython",
    "version": 3
   },
   "file_extension": ".py",
   "mimetype": "text/x-python",
   "name": "python",
   "nbconvert_exporter": "python",
   "pygments_lexer": "ipython3",
   "version": "3.11.3"
  }
 },
 "nbformat": 4,
 "nbformat_minor": 5
}
